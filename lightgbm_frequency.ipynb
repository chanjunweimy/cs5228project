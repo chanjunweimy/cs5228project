{
 "cells": [
  {
   "cell_type": "code",
   "execution_count": 13,
   "metadata": {},
   "outputs": [],
   "source": [
    "%config IPCompleter.greedy=True\n",
    "%matplotlib inline\n",
    "\n",
    "import pandas as pd\n",
    "\n",
    "df_train = pd.read_csv('train_kaggle.csv')\n",
    "df_test = pd.read_csv('sample_solution.csv')\n",
    "y = df_train['label']"
   ]
  },
  {
   "cell_type": "code",
   "execution_count": 14,
   "metadata": {},
   "outputs": [],
   "source": [
    "def load_dataframe(id):\n",
    "    train_data = np.load(\"train/train/{}.npy\".format(id))\n",
    "    return train_data\n",
    "\n",
    "def load_dataframe_test(id):\n",
    "    test_data = np.load(\"test/test/{}.npy\".format(id))\n",
    "    return test_data\n",
    "\n",
    "def replace_nan(df):\n",
    "    #Obtain mean of columns as you need, nanmean is just convenient.\n",
    "    col_mean = np.nanmean(df, axis=0)\n",
    "    col_mean = np.nan_to_num(col_mean)\n",
    "    \n",
    "    #Find indicies that you need to replace\n",
    "    inds = np.where(np.isnan(df))\n",
    "\n",
    "    #Place column means in the indices. Align the arrays using take\n",
    "    df[inds] = np.take(col_mean, inds[1])\n",
    "    return df\n",
    "\n",
    "def compute_features(df):\n",
    "    sumCol = np.sum(df, axis=0).reshape(1, -1)\n",
    "    # meanCol = np.mean(df, axis=0).reshape(1, -1)\n",
    "    # dataCol = np.concatenate([sumCol, meanCol], axis=1)\n",
    "    dataCol = sumCol\n",
    "    return dataCol"
   ]
  },
  {
   "cell_type": "code",
   "execution_count": 15,
   "metadata": {},
   "outputs": [
    {
     "name": "stderr",
     "output_type": "stream",
     "text": [
      "C:\\ProgramData\\Anaconda3\\lib\\site-packages\\ipykernel_launcher.py:11: RuntimeWarning: Mean of empty slice\n",
      "  # This is added back by InteractiveShellApp.init_path()\n"
     ]
    },
    {
     "data": {
      "text/plain": [
       "(54, 40)"
      ]
     },
     "execution_count": 15,
     "metadata": {},
     "output_type": "execute_result"
    }
   ],
   "source": [
    "import numpy as np\n",
    "replace_nan(load_dataframe(0)).shape"
   ]
  },
  {
   "cell_type": "code",
   "execution_count": 16,
   "metadata": {},
   "outputs": [
    {
     "name": "stderr",
     "output_type": "stream",
     "text": [
      "  0%|                                                               | 0/30336 [00:00<?, ?it/s]C:\\ProgramData\\Anaconda3\\lib\\site-packages\\ipykernel_launcher.py:11: RuntimeWarning: Mean of empty slice\n",
      "  # This is added back by InteractiveShellApp.init_path()\n",
      "100%|███████████████████████████████████████████████████| 30336/30336 [09:03<00:00, 55.86it/s]\n"
     ]
    },
    {
     "data": {
      "text/plain": [
       "(30336, 40)"
      ]
     },
     "execution_count": 16,
     "metadata": {},
     "output_type": "execute_result"
    }
   ],
   "source": [
    "import numpy as np\n",
    "from tqdm import tqdm\n",
    "\n",
    "XTrain = []\n",
    "for id in tqdm(df_train['Id']):\n",
    "    dfi = compute_features(replace_nan(load_dataframe(id)))\n",
    "    XTrain.append(dfi)\n",
    "\n",
    "XTrain = np.concatenate(XTrain, axis=0)\n",
    "XTrain.shape"
   ]
  },
  {
   "cell_type": "code",
   "execution_count": 17,
   "metadata": {},
   "outputs": [
    {
     "name": "stderr",
     "output_type": "stream",
     "text": [
      "  0%|                                                               | 0/10000 [00:00<?, ?it/s]C:\\ProgramData\\Anaconda3\\lib\\site-packages\\ipykernel_launcher.py:11: RuntimeWarning: Mean of empty slice\n",
      "  # This is added back by InteractiveShellApp.init_path()\n",
      "100%|███████████████████████████████████████████████████| 10000/10000 [02:16<00:00, 73.42it/s]\n"
     ]
    },
    {
     "data": {
      "text/plain": [
       "(10000, 40)"
      ]
     },
     "execution_count": 17,
     "metadata": {},
     "output_type": "execute_result"
    }
   ],
   "source": [
    "from tqdm import tqdm\n",
    "\n",
    "XTest = []\n",
    "for id in tqdm(df_test['Id']):\n",
    "    dfi = compute_features(replace_nan(load_dataframe_test(id)))\n",
    "    XTest.append(dfi)\n",
    "XTest = np.concatenate(XTest, axis=0)\n",
    "XTest.shape"
   ]
  },
  {
   "cell_type": "code",
   "execution_count": 18,
   "metadata": {},
   "outputs": [
    {
     "name": "stdout",
     "output_type": "stream",
     "text": [
      "(24268, 40)\n",
      "(6068, 40)\n",
      "(24268,)\n",
      "(6068,)\n"
     ]
    }
   ],
   "source": [
    "from sklearn.model_selection import train_test_split\n",
    "\n",
    "X_train, X_valid, y_train, y_valid = train_test_split(XTrain, y, test_size=0.2, random_state=42)\n",
    "print(X_train.shape)\n",
    "print(X_valid.shape)\n",
    "print(y_train.shape)\n",
    "print(y_valid.shape)"
   ]
  },
  {
   "cell_type": "code",
   "execution_count": 19,
   "metadata": {},
   "outputs": [
    {
     "data": {
      "text/plain": [
       "0.9268249948407903"
      ]
     },
     "execution_count": 19,
     "metadata": {},
     "output_type": "execute_result"
    }
   ],
   "source": [
    "from sklearn.model_selection import train_test_split\n",
    "from lightgbm import LGBMClassifier\n",
    "from sklearn import metrics\n",
    "\n",
    "model = LGBMClassifier()\n",
    "model.fit(X_train, y_train)\n",
    "pred = model.predict_proba(X_valid)[:,1]\n",
    "fpr, tpr, thresholds = metrics.roc_curve(y_valid, pred)\n",
    "auc_score = metrics.auc(fpr, tpr)\n",
    "auc_score"
   ]
  },
  {
   "cell_type": "code",
   "execution_count": 20,
   "metadata": {},
   "outputs": [],
   "source": [
    "import seaborn as sns\n",
    "import matplotlib.pyplot as plt\n",
    "\n",
    "def get_column_names():\n",
    "    columnNames = []\n",
    "    for i in range(40):\n",
    "        columnNames.append(str(i) + '_sum')\n",
    "        # columnNames.append(str(i) + '_mean')\n",
    "    return columnNames\n",
    "\n",
    "def plot_corr(df):\n",
    "    # Compute the correlation matrix\n",
    "    corr = df.corr()\n",
    "\n",
    "    # Generate a mask for the upper triangle\n",
    "    mask = np.zeros_like(corr, dtype=np.bool)\n",
    "    mask[np.triu_indices_from(mask)] = True\n",
    "\n",
    "    # Set up the matplotlib figure\n",
    "    f, ax = plt.subplots(figsize=(11, 9))\n",
    "\n",
    "    # Generate a custom diverging colormap\n",
    "    cmap = sns.diverging_palette(220, 10, as_cmap=True)\n",
    "\n",
    "    # Draw the heatmap with the mask and correct aspect ratio\n",
    "    sns.heatmap(corr, mask=mask, cmap=cmap, vmax=.3, center=0,\n",
    "                square=True, linewidths=.5, cbar_kws={\"shrink\": .5})"
   ]
  },
  {
   "cell_type": "code",
   "execution_count": 21,
   "metadata": {},
   "outputs": [
    {
     "data": {
      "image/png": "[encoded data removed]",
      "text/plain": [
       "<Figure size 792x648 with 2 Axes>"
      ]
     },
     "metadata": {
      "needs_background": "light"
     },
     "output_type": "display_data"
    }
   ],
   "source": [
    "df = pd.DataFrame(data=XTrain, columns=get_column_names())\n",
    "df['y'] = y\n",
    "plot_corr(df)"
   ]
  },
  {
   "cell_type": "code",
   "execution_count": 22,
   "metadata": {},
   "outputs": [
    {
     "data": {
      "text/plain": [
       "0_sum     0.014838\n",
       "1_sum     0.249126\n",
       "2_sum     0.288035\n",
       "3_sum     0.226595\n",
       "4_sum     0.116610\n",
       "5_sum     0.234332\n",
       "6_sum     0.225377\n",
       "7_sum     0.054900\n",
       "8_sum     0.241315\n",
       "9_sum     0.129212\n",
       "10_sum    0.072943\n",
       "11_sum    0.226264\n",
       "12_sum    0.237124\n",
       "13_sum    0.018712\n",
       "14_sum    0.235282\n",
       "15_sum    0.264121\n",
       "16_sum    0.159285\n",
       "17_sum    0.237633\n",
       "18_sum    0.294347\n",
       "19_sum    0.234390\n",
       "20_sum    0.221385\n",
       "21_sum    0.199815\n",
       "22_sum    0.285474\n",
       "23_sum    0.227901\n",
       "24_sum    0.210356\n",
       "25_sum    0.099368\n",
       "26_sum    0.019675\n",
       "27_sum    0.176694\n",
       "28_sum    0.155563\n",
       "29_sum    0.254778\n",
       "30_sum    0.072445\n",
       "31_sum    0.226100\n",
       "32_sum    0.211910\n",
       "33_sum    0.151358\n",
       "34_sum    0.011669\n",
       "35_sum   -0.086330\n",
       "36_sum    0.206073\n",
       "37_sum    0.261662\n",
       "38_sum    0.211273\n",
       "39_sum    0.253381\n",
       "y         1.000000\n",
       "Name: y, dtype: float64"
      ]
     },
     "execution_count": 22,
     "metadata": {},
     "output_type": "execute_result"
    }
   ],
   "source": [
    "df.corr()['y']"
   ]
  },
  {
   "cell_type": "code",
   "execution_count": 23,
   "metadata": {},
   "outputs": [
    {
     "data": {
      "text/plain": [
       "y         1.000000\n",
       "18_sum    0.294347\n",
       "2_sum     0.288035\n",
       "22_sum    0.285474\n",
       "15_sum    0.264121\n",
       "37_sum    0.261662\n",
       "29_sum    0.254778\n",
       "39_sum    0.253381\n",
       "1_sum     0.249126\n",
       "8_sum     0.241315\n",
       "17_sum    0.237633\n",
       "12_sum    0.237124\n",
       "14_sum    0.235282\n",
       "19_sum    0.234390\n",
       "5_sum     0.234332\n",
       "23_sum    0.227901\n",
       "3_sum     0.226595\n",
       "11_sum    0.226264\n",
       "31_sum    0.226100\n",
       "6_sum     0.225377\n",
       "20_sum    0.221385\n",
       "32_sum    0.211910\n",
       "38_sum    0.211273\n",
       "24_sum    0.210356\n",
       "36_sum    0.206073\n",
       "21_sum    0.199815\n",
       "27_sum    0.176694\n",
       "16_sum    0.159285\n",
       "28_sum    0.155563\n",
       "33_sum    0.151358\n",
       "9_sum     0.129212\n",
       "4_sum     0.116610\n",
       "25_sum    0.099368\n",
       "10_sum    0.072943\n",
       "30_sum    0.072445\n",
       "7_sum     0.054900\n",
       "26_sum    0.019675\n",
       "13_sum    0.018712\n",
       "0_sum     0.014838\n",
       "34_sum    0.011669\n",
       "35_sum   -0.086330\n",
       "Name: y, dtype: float64"
      ]
     },
     "execution_count": 23,
     "metadata": {},
     "output_type": "execute_result"
    }
   ],
   "source": [
    "df.corr()['y'].sort_values(ascending=False)"
   ]
  },
  {
   "cell_type": "code",
   "execution_count": 24,
   "metadata": {},
   "outputs": [
    {
     "data": {
      "text/plain": [
       "array([0.01718932, 0.02919678, 0.04827281, 0.04652072, 0.01432417,\n",
       "       0.01817655, 0.02880395, 0.01560396, 0.04204213, 0.01677156,\n",
       "       0.00643967, 0.02324852, 0.02501545, 0.02459236, 0.03145503,\n",
       "       0.03479664, 0.00979968, 0.03518847, 0.04836554, 0.01970022,\n",
       "       0.02668695, 0.01760966, 0.02311726, 0.03147463, 0.0259783 ,\n",
       "       0.00773041, 0.01351999, 0.01834834, 0.01516227, 0.05354516,\n",
       "       0.01363583, 0.03009331, 0.01945322, 0.02109818, 0.00751052,\n",
       "       0.01797881, 0.0235665 , 0.03260248, 0.01678794, 0.04859669])"
      ]
     },
     "execution_count": 24,
     "metadata": {},
     "output_type": "execute_result"
    }
   ],
   "source": [
    "from sklearn.feature_selection import SelectFromModel\n",
    "from sklearn.svm import LinearSVC\n",
    "from sklearn.ensemble import ExtraTreesClassifier\n",
    "from sklearn.ensemble import GradientBoostingClassifier\n",
    "\n",
    "clf = ExtraTreesClassifier(n_estimators=50)\n",
    "# clf = GradientBoostingClassifier()\n",
    "clf = clf.fit(XTrain, y)\n",
    "clf.feature_importances_"
   ]
  },
  {
   "cell_type": "code",
   "execution_count": 25,
   "metadata": {},
   "outputs": [
    {
     "data": {
      "text/plain": [
       "array([False,  True,  True,  True, False, False,  True, False,  True,\n",
       "       False, False,  True,  True,  True,  True,  True, False,  True,\n",
       "        True, False,  True, False,  True,  True,  True, False, False,\n",
       "       False, False,  True, False,  True, False,  True, False, False,\n",
       "        True,  True, False,  True])"
      ]
     },
     "execution_count": 25,
     "metadata": {},
     "output_type": "execute_result"
    }
   ],
   "source": [
    "clf.feature_importances_ > 0.02"
   ]
  },
  {
   "cell_type": "code",
   "execution_count": 26,
   "metadata": {},
   "outputs": [
    {
     "data": {
      "text/plain": [
       "0.9268249948407903"
      ]
     },
     "execution_count": 26,
     "metadata": {},
     "output_type": "execute_result"
    }
   ],
   "source": [
    "model = LGBMClassifier()\n",
    "model.fit(X_train, y_train)\n",
    "pred = model.predict_proba(X_valid)[:,1]\n",
    "fpr, tpr, thresholds = metrics.roc_curve(y_valid, pred)\n",
    "auc_score = metrics.auc(fpr, tpr)\n",
    "auc_score"
   ]
  },
  {
   "cell_type": "code",
   "execution_count": 27,
   "metadata": {},
   "outputs": [
    {
     "data": {
      "text/plain": [
       "array([ 53,  73, 147, 142,  41,  87,  56,  32,  71, 100,  26,  88,  71,\n",
       "       114,  62, 114,  46,  99,  41,  74,  43,  95,  52,  66,  89,  29,\n",
       "        80,  96,  59,  50,  60,  53, 107,  57,  47, 158,  76, 117,  70,\n",
       "        59])"
      ]
     },
     "execution_count": 27,
     "metadata": {},
     "output_type": "execute_result"
    }
   ],
   "source": [
    "model.feature_importances_"
   ]
  },
  {
   "cell_type": "code",
   "execution_count": 35,
   "metadata": {},
   "outputs": [
    {
     "data": {
      "text/plain": [
       "array([ True,  True, False, False,  True, False,  True,  True,  True,\n",
       "       False,  True, False,  True, False,  True, False,  True, False,\n",
       "        True,  True,  True, False,  True,  True, False,  True, False,\n",
       "       False,  True,  True,  True,  True, False,  True,  True, False,\n",
       "       False, False,  True,  True])"
      ]
     },
     "execution_count": 35,
     "metadata": {},
     "output_type": "execute_result"
    }
   ],
   "source": [
    "model.feature_importances_ < np.mean(model.feature_importances_)"
   ]
  },
  {
   "cell_type": "code",
   "execution_count": 32,
   "metadata": {},
   "outputs": [
    {
     "data": {
      "text/plain": [
       "75.0"
      ]
     },
     "execution_count": 32,
     "metadata": {},
     "output_type": "execute_result"
    }
   ],
   "source": [
    "np.mean(model.feature_importances_)"
   ]
  },
  {
   "cell_type": "code",
   "execution_count": 33,
   "metadata": {},
   "outputs": [
    {
     "data": {
      "text/plain": [
       "(array([ 0,  4,  6,  7, 10, 14, 16, 18, 20, 22, 23, 25, 28, 29, 30, 31, 33,\n",
       "        34, 39], dtype=int64),)"
      ]
     },
     "execution_count": 33,
     "metadata": {},
     "output_type": "execute_result"
    }
   ],
   "source": [
    "np.where(model.feature_importances_ < 70)"
   ]
  },
  {
   "cell_type": "code",
   "execution_count": 126,
   "metadata": {},
   "outputs": [
    {
     "data": {
      "text/plain": [
       "(array([10, 16, 25, 34], dtype=int64),)"
      ]
     },
     "execution_count": 126,
     "metadata": {},
     "output_type": "execute_result"
    }
   ],
   "source": [
    "np.where(clf.feature_importances_ < 0.01)"
   ]
  },
  {
   "cell_type": "code",
   "execution_count": 3,
   "metadata": {},
   "outputs": [
    {
     "data": {
      "text/plain": [
       "array([False,  True,  True,  True, False, False,  True, False,  True,\n",
       "       False, False,  True,  True,  True,  True,  True, False,  True,\n",
       "        True, False,  True, False,  True,  True,  True, False, False,\n",
       "       False, False,  True, False,  True,  True,  True, False, False,\n",
       "       False,  True, False,  True])"
      ]
     },
     "execution_count": 3,
     "metadata": {},
     "output_type": "execute_result"
    }
   ],
   "source": [
    "import numpy as np\n",
    "fi = np.array([0.01566935, 0.02649767, 0.04107267, 0.04412156, 0.01460983,\n",
    "       0.01841416, 0.02811621, 0.01515124, 0.04089081, 0.01662181,\n",
    "       0.00624083, 0.02439701, 0.0247147 , 0.0228639 , 0.03131602,\n",
    "       0.03987609, 0.00994603, 0.03620459, 0.04771724, 0.01660164,\n",
    "       0.02890663, 0.01842027, 0.02976564, 0.04567926, 0.02365328,\n",
    "       0.00737686, 0.01296379, 0.01808307, 0.01507807, 0.0459507 ,\n",
    "       0.01320972, 0.03764166, 0.02124003, 0.02414404, 0.00769764,\n",
    "       0.01872731, 0.01926006, 0.02734829, 0.01640777, 0.04740254])\n",
    "fi > 0.02"
   ]
  },
  {
   "cell_type": "code",
   "execution_count": 5,
   "metadata": {},
   "outputs": [
    {
     "data": {
      "text/plain": [
       "(array([ 0,  4,  5,  7,  9, 10, 16, 19, 21, 25, 26, 27, 28, 30, 34, 35, 36,\n",
       "        38], dtype=int64),)"
      ]
     },
     "execution_count": 5,
     "metadata": {},
     "output_type": "execute_result"
    }
   ],
   "source": [
    "np.where(fi < 0.02)"
   ]
  },
  {
   "cell_type": "code",
   "execution_count": 12,
   "metadata": {},
   "outputs": [
    {
     "data": {
      "text/plain": [
       "(array([ 0,  4,  7,  9, 10, 16, 19, 25, 26, 28, 30, 34, 38], dtype=int64),)"
      ]
     },
     "execution_count": 12,
     "metadata": {},
     "output_type": "execute_result"
    }
   ],
   "source": [
    "np.where(fi < 0.018)"
   ]
  },
  {
   "cell_type": "code",
   "execution_count": 9,
   "metadata": {},
   "outputs": [
    {
     "data": {
      "text/plain": [
       "(11,)"
      ]
     },
     "execution_count": 9,
     "metadata": {},
     "output_type": "execute_result"
    }
   ],
   "source": [
    "np.where(fi > 0.03)[0].shape"
   ]
  },
  {
   "cell_type": "code",
   "execution_count": 8,
   "metadata": {},
   "outputs": [
    {
     "data": {
      "text/plain": [
       "array([False, False,  True,  True, False, False, False, False,  True,\n",
       "       False, False, False, False, False,  True,  True, False,  True,\n",
       "        True, False, False, False, False,  True, False, False, False,\n",
       "       False, False,  True, False,  True, False, False, False, False,\n",
       "       False, False, False,  True])"
      ]
     },
     "execution_count": 8,
     "metadata": {},
     "output_type": "execute_result"
    }
   ],
   "source": [
    "fi > 0.03"
   ]
  },
  {
   "cell_type": "code",
   "execution_count": null,
   "metadata": {},
   "outputs": [],
   "source": []
  }
 ],
 "metadata": {
  "kernelspec": {
   "display_name": "Python 3",
   "language": "python",
   "name": "python3"
  },
  "language_info": {
   "codemirror_mode": {
    "name": "ipython",
    "version": 3
   },
   "file_extension": ".py",
   "mimetype": "text/x-python",
   "name": "python",
   "nbconvert_exporter": "python",
   "pygments_lexer": "ipython3",
   "version": "3.6.9"
  }
 },
 "nbformat": 4,
 "nbformat_minor": 2
}
