{
 "cells": [
  {
   "cell_type": "code",
   "execution_count": 75,
   "metadata": {},
   "outputs": [],
   "source": [
    "%config IPCompleter.greedy=True\n",
    "%matplotlib inline\n",
    "\n",
    "import pandas as pd\n",
    "\n",
    "df_train = pd.read_csv('train_kaggle.csv')\n",
    "df_test = pd.read_csv('sample_solution.csv')\n",
    "y = df_train['label']"
   ]
  },
  {
   "cell_type": "code",
   "execution_count": 76,
   "metadata": {},
   "outputs": [],
   "source": [
    "def load_dataframe(id):\n",
    "    train_data = np.load(\"train/train/{}.npy\".format(id))\n",
    "    return train_data\n",
    "\n",
    "def load_dataframe_test(id):\n",
    "    test_data = np.load(\"test/test/{}.npy\".format(id))\n",
    "    return test_data\n",
    "\n",
    "def replace_nan(df):\n",
    "    #Obtain mean of columns as you need, nanmean is just convenient.\n",
    "    col_mean = np.nanmean(df, axis=0)\n",
    "\n",
    "    #Find indicies that you need to replace\n",
    "    inds = np.where(np.isnan(df))\n",
    "\n",
    "    #Place column means in the indices. Align the arrays using take\n",
    "    df[inds] = np.take(col_mean, inds[1])\n",
    "    return df\n",
    "\n",
    "def compute_features(df):\n",
    "    sumCol = np.sum(df, axis=0).reshape(1, -1)\n",
    "    meanCol = np.mean(df, axis=0).reshape(1, -1)\n",
    "    dataCol = np.concatenate([sumCol, meanCol], axis=1)\n",
    "    # dataCol = sumCol\n",
    "    return dataCol"
   ]
  },
  {
   "cell_type": "code",
   "execution_count": 77,
   "metadata": {},
   "outputs": [
    {
     "name": "stderr",
     "output_type": "stream",
     "text": [
      "C:\\Users\\jw.chan\\AppData\\Local\\Continuum\\anaconda3\\lib\\site-packages\\ipykernel_launcher.py:11: RuntimeWarning: Mean of empty slice\n",
      "  # This is added back by InteractiveShellApp.init_path()\n"
     ]
    },
    {
     "data": {
      "text/plain": [
       "(54, 40)"
      ]
     },
     "execution_count": 77,
     "metadata": {},
     "output_type": "execute_result"
    }
   ],
   "source": [
    "import numpy as np\n",
    "replace_nan(load_dataframe(0)).shape"
   ]
  },
  {
   "cell_type": "code",
   "execution_count": 78,
   "metadata": {},
   "outputs": [
    {
     "name": "stderr",
     "output_type": "stream",
     "text": [
      "  0%|                                         | 0/30336 [00:00<?, ?it/s]C:\\Users\\jw.chan\\AppData\\Local\\Continuum\\anaconda3\\lib\\site-packages\\ipykernel_launcher.py:11: RuntimeWarning: Mean of empty slice\n",
      "  # This is added back by InteractiveShellApp.init_path()\n",
      "100%|████████████████████████████| 30336/30336 [01:40<00:00, 302.69it/s]\n"
     ]
    },
    {
     "data": {
      "text/plain": [
       "(30336, 80)"
      ]
     },
     "execution_count": 78,
     "metadata": {},
     "output_type": "execute_result"
    }
   ],
   "source": [
    "import numpy as np\n",
    "from tqdm import tqdm\n",
    "\n",
    "XTrain = []\n",
    "for id in tqdm(df_train['Id']):\n",
    "    dfi = compute_features(replace_nan(load_dataframe(id)))\n",
    "    XTrain.append(dfi)\n",
    "\n",
    "XTrain = np.concatenate(XTrain, axis=0)\n",
    "XTrain.shape"
   ]
  },
  {
   "cell_type": "code",
   "execution_count": 79,
   "metadata": {},
   "outputs": [
    {
     "name": "stderr",
     "output_type": "stream",
     "text": [
      "  0%|                                         | 0/10000 [00:00<?, ?it/s]C:\\Users\\jw.chan\\AppData\\Local\\Continuum\\anaconda3\\lib\\site-packages\\ipykernel_launcher.py:11: RuntimeWarning: Mean of empty slice\n",
      "  # This is added back by InteractiveShellApp.init_path()\n",
      "100%|████████████████████████████| 10000/10000 [00:28<00:00, 345.19it/s]\n"
     ]
    },
    {
     "data": {
      "text/plain": [
       "(10000, 80)"
      ]
     },
     "execution_count": 79,
     "metadata": {},
     "output_type": "execute_result"
    }
   ],
   "source": [
    "from tqdm import tqdm\n",
    "\n",
    "XTest = []\n",
    "for id in tqdm(df_test['Id']):\n",
    "    dfi = compute_features(replace_nan(load_dataframe_test(id)))\n",
    "    XTest.append(dfi)\n",
    "XTest = np.concatenate(XTest, axis=0)\n",
    "XTest.shape"
   ]
  },
  {
   "cell_type": "code",
   "execution_count": 80,
   "metadata": {},
   "outputs": [
    {
     "name": "stdout",
     "output_type": "stream",
     "text": [
      "(24268, 80)\n",
      "(6068, 80)\n",
      "(24268,)\n",
      "(6068,)\n"
     ]
    }
   ],
   "source": [
    "from sklearn.model_selection import train_test_split\n",
    "\n",
    "X_train, X_valid, y_train, y_valid = train_test_split(XTrain, y, test_size=0.2, random_state=42)\n",
    "print(X_train.shape)\n",
    "print(X_valid.shape)\n",
    "print(y_train.shape)\n",
    "print(y_valid.shape)"
   ]
  },
  {
   "cell_type": "code",
   "execution_count": 81,
   "metadata": {},
   "outputs": [
    {
     "data": {
      "text/plain": [
       "0.9256021796607274"
      ]
     },
     "execution_count": 81,
     "metadata": {},
     "output_type": "execute_result"
    }
   ],
   "source": [
    "from sklearn.model_selection import train_test_split\n",
    "from lightgbm import LGBMClassifier\n",
    "from sklearn import metrics\n",
    "\n",
    "model = LGBMClassifier()\n",
    "model.fit(X_train, y_train)\n",
    "pred = model.predict_proba(X_valid)[:,1]\n",
    "fpr, tpr, thresholds = metrics.roc_curve(y_valid, pred)\n",
    "auc_score = metrics.auc(fpr, tpr)\n",
    "auc_score"
   ]
  },
  {
   "cell_type": "code",
   "execution_count": 84,
   "metadata": {},
   "outputs": [],
   "source": [
    "import seaborn as sns\n",
    "import matplotlib.pyplot as plt\n",
    "\n",
    "def get_column_names():\n",
    "    columnNames = []\n",
    "    for i in range(40):\n",
    "        columnNames.append(str(i) + '_sum')\n",
    "        columnNames.append(str(i) + '_mean')\n",
    "    return columnNames\n",
    "\n",
    "def plot_corr(df):\n",
    "    # Compute the correlation matrix\n",
    "    corr = df.corr()\n",
    "\n",
    "    # Generate a mask for the upper triangle\n",
    "    mask = np.zeros_like(corr, dtype=np.bool)\n",
    "    mask[np.triu_indices_from(mask)] = True\n",
    "\n",
    "    # Set up the matplotlib figure\n",
    "    f, ax = plt.subplots(figsize=(11, 9))\n",
    "\n",
    "    # Generate a custom diverging colormap\n",
    "    cmap = sns.diverging_palette(220, 10, as_cmap=True)\n",
    "\n",
    "    # Draw the heatmap with the mask and correct aspect ratio\n",
    "    sns.heatmap(corr, mask=mask, cmap=cmap, vmax=.3, center=0,\n",
    "                square=True, linewidths=.5, cbar_kws={\"shrink\": .5})"
   ]
  },
  {
   "cell_type": "code",
   "execution_count": 85,
   "metadata": {},
   "outputs": [
    {
     "data": {
      "image/png": "[encoded data removed]",
      "text/plain": [
       "<Figure size 792x648 with 2 Axes>"
      ]
     },
     "metadata": {
      "needs_background": "light"
     },
     "output_type": "display_data"
    }
   ],
   "source": [
    "df = pd.DataFrame(data=XTrain, columns=get_column_names())\n",
    "df['y'] = y\n",
    "plot_corr(df)"
   ]
  },
  {
   "cell_type": "code",
   "execution_count": 86,
   "metadata": {},
   "outputs": [
    {
     "data": {
      "text/plain": [
       "0_sum      0.053402\n",
       "0_mean     0.284415\n",
       "1_sum      0.288035\n",
       "1_mean     0.252277\n",
       "2_sum      0.128515\n",
       "2_mean     0.198399\n",
       "3_sum      0.266281\n",
       "3_mean     0.115516\n",
       "4_sum      0.267759\n",
       "4_mean     0.140847\n",
       "5_sum      0.197432\n",
       "5_mean     0.226264\n",
       "6_sum      0.258232\n",
       "6_mean     0.011289\n",
       "7_sum      0.268055\n",
       "7_mean     0.264109\n",
       "8_sum      0.331926\n",
       "8_mean     0.237338\n",
       "9_sum      0.316417\n",
       "9_mean     0.264366\n",
       "10_sum     0.354801\n",
       "10_mean    0.215275\n",
       "11_sum     0.295596\n",
       "11_mean    0.310958\n",
       "12_sum     0.277272\n",
       "12_mean    0.216466\n",
       "13_sum     0.030970\n",
       "13_mean    0.204316\n",
       "14_sum     0.153996\n",
       "14_mean    0.255227\n",
       "             ...   \n",
       "25_mean    0.005317\n",
       "26_sum     0.036915\n",
       "26_mean   -0.002019\n",
       "27_sum    -0.059756\n",
       "27_mean    0.101850\n",
       "28_sum     0.076331\n",
       "28_mean   -0.039705\n",
       "29_sum     0.018557\n",
       "29_mean    0.026114\n",
       "30_sum     0.011268\n",
       "30_mean    0.096006\n",
       "31_sum    -0.008929\n",
       "31_mean    0.007044\n",
       "32_sum    -0.037695\n",
       "32_mean   -0.016582\n",
       "33_sum     0.010033\n",
       "33_mean   -0.002238\n",
       "34_sum    -0.002141\n",
       "34_mean    0.017844\n",
       "35_sum     0.020180\n",
       "35_mean   -0.052312\n",
       "36_sum     0.068010\n",
       "36_mean    0.020602\n",
       "37_sum     0.029514\n",
       "37_mean   -0.058528\n",
       "38_sum    -0.041003\n",
       "38_mean    0.099321\n",
       "39_sum     0.042149\n",
       "39_mean    0.084765\n",
       "y          1.000000\n",
       "Name: y, Length: 81, dtype: float64"
      ]
     },
     "execution_count": 86,
     "metadata": {},
     "output_type": "execute_result"
    }
   ],
   "source": [
    "df.corr()['y']"
   ]
  },
  {
   "cell_type": "code",
   "execution_count": 87,
   "metadata": {},
   "outputs": [
    {
     "data": {
      "text/plain": [
       "y          1.000000\n",
       "10_sum     0.354801\n",
       "8_sum      0.331926\n",
       "9_sum      0.316417\n",
       "11_mean    0.310958\n",
       "11_sum     0.295596\n",
       "18_sum     0.288743\n",
       "1_sum      0.288035\n",
       "0_mean     0.284415\n",
       "12_sum     0.277272\n",
       "7_sum      0.268055\n",
       "4_sum      0.267759\n",
       "3_sum      0.266281\n",
       "9_mean     0.264366\n",
       "7_mean     0.264109\n",
       "18_mean    0.262882\n",
       "15_mean    0.261804\n",
       "19_mean    0.259579\n",
       "6_sum      0.258232\n",
       "14_mean    0.255227\n",
       "1_mean     0.252277\n",
       "21_sum     0.247820\n",
       "19_sum     0.244829\n",
       "16_sum     0.240305\n",
       "8_mean     0.237338\n",
       "5_mean     0.226264\n",
       "12_mean    0.216466\n",
       "10_mean    0.215275\n",
       "13_mean    0.204316\n",
       "2_mean     0.198399\n",
       "             ...   \n",
       "13_sum     0.030970\n",
       "37_sum     0.029514\n",
       "29_mean    0.026114\n",
       "36_mean    0.020602\n",
       "35_sum     0.020180\n",
       "29_sum     0.018557\n",
       "34_mean    0.017844\n",
       "20_mean    0.017232\n",
       "6_mean     0.011289\n",
       "30_sum     0.011268\n",
       "33_sum     0.010033\n",
       "31_mean    0.007044\n",
       "25_mean    0.005317\n",
       "22_mean    0.003575\n",
       "26_mean   -0.002019\n",
       "34_sum    -0.002141\n",
       "33_mean   -0.002238\n",
       "24_sum    -0.005488\n",
       "31_sum    -0.008929\n",
       "32_mean   -0.016582\n",
       "21_mean   -0.027834\n",
       "32_sum    -0.037695\n",
       "28_mean   -0.039705\n",
       "38_sum    -0.041003\n",
       "35_mean   -0.052312\n",
       "23_sum    -0.052972\n",
       "37_mean   -0.058528\n",
       "27_sum    -0.059756\n",
       "20_sum    -0.070966\n",
       "17_mean   -0.086328\n",
       "Name: y, Length: 81, dtype: float64"
      ]
     },
     "execution_count": 87,
     "metadata": {},
     "output_type": "execute_result"
    }
   ],
   "source": [
    "df.corr()['y'].sort_values(ascending=False)"
   ]
  },
  {
   "cell_type": "code",
   "execution_count": null,
   "metadata": {},
   "outputs": [],
   "source": []
  }
 ],
 "metadata": {
  "kernelspec": {
   "display_name": "Python 3",
   "language": "python",
   "name": "python3"
  },
  "language_info": {
   "codemirror_mode": {
    "name": "ipython",
    "version": 3
   },
   "file_extension": ".py",
   "mimetype": "text/x-python",
   "name": "python",
   "nbconvert_exporter": "python",
   "pygments_lexer": "ipython3",
   "version": "3.6.9"
  }
 },
 "nbformat": 4,
 "nbformat_minor": 2
}
