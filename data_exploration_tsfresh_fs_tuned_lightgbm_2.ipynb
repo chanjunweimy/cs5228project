{
 "cells": [
  {
   "cell_type": "code",
   "execution_count": 10,
   "metadata": {},
   "outputs": [],
   "source": [
    "%config IPCompleter.greedy=True"
   ]
  },
  {
   "cell_type": "code",
   "execution_count": 11,
   "metadata": {},
   "outputs": [],
   "source": [
    "import pandas as pd\n",
    "\n",
    "df_train = pd.read_csv('train_kaggle.csv')\n",
    "df_test = pd.read_csv('sample_solution.csv')\n",
    "y = df_train['label']\n",
    "y = y.values"
   ]
  },
  {
   "cell_type": "code",
   "execution_count": 34,
   "metadata": {},
   "outputs": [],
   "source": [
    "import pandas as pd\n",
    "from tqdm import tqdm\n",
    "from sklearn.model_selection import train_test_split\n",
    "from lightgbm import LGBMClassifier\n",
    "from sklearn import metrics\n",
    "from sklearn.feature_selection import SelectFromModel\n",
    "from sklearn.ensemble import ExtraTreesClassifier\n",
    "\n",
    "NUM_OF_COL = 40\n",
    "\n",
    "def load_features(col):\n",
    "    return pd.read_parquet(\"filtered_features/filtered_feature{}.gzip\".format(col))\n",
    "\n",
    "def load_test_features(col):\n",
    "    return pd.read_parquet(\"filtered_test_features/filtered_test_feature{}.gzip\".format(col))\n",
    "\n",
    "def select_train(selected_features):\n",
    "    train = []\n",
    "    for col in tqdm(range(NUM_OF_COL)):\n",
    "        if selected_features[col] == False:\n",
    "            continue\n",
    "        tf = load_features(col)\n",
    "        train.append(tf)\n",
    "    train = np.concatenate(train,  axis=1)\n",
    "    return train\n",
    "\n",
    "def select_test(selected_features):\n",
    "    test = []\n",
    "    for col in range(NUM_OF_COL):\n",
    "        if selected_features[col] == False:\n",
    "            continue\n",
    "        tf = load_test_features(col)\n",
    "        tf = tf.replace([np.inf], np.finfo('float32').max).replace([np.inf, -np.inf], np.finfo('float32').min).fillna(0)\n",
    "        test.append(tf)\n",
    "    test = np.concatenate(test,  axis=1)\n",
    "    return test\n",
    "\n",
    "def calculate_auc(train, y):\n",
    "    X_train, X_valid, y_train, y_valid = train_test_split(train, y, test_size=0.2, random_state=42)\n",
    "    model = LGBMClassifier()\n",
    "    model.fit(X_train, y_train)\n",
    "    pred = model.predict_proba(X_valid)[:,1]\n",
    "    fpr, tpr, thresholds = metrics.roc_curve(y_valid, pred)\n",
    "    auc_score = metrics.auc(fpr, tpr)\n",
    "    return auc_score\n",
    "\n",
    "def show_index(selected_features):\n",
    "    return np.where(np.array(selected_features) == False)\n",
    "\n",
    "def get_extra_tree(train, y):\n",
    "    clf = ExtraTreesClassifier(n_estimators=50)\n",
    "    clf = clf.fit(train, y)\n",
    "    return clf\n",
    "\n",
    "def get_feature_model(train, y, threshold=None):\n",
    "    clf = get_extra_tree(train, y)\n",
    "    print(clf.feature_importances_)\n",
    "    modelSelection = SelectFromModel(clf, prefit=True, max_features=8000, threshold=threshold)\n",
    "    return modelSelection"
   ]
  },
  {
   "cell_type": "markdown",
   "metadata": {},
   "source": [
    "## Frequency importance"
   ]
  },
  {
   "cell_type": "code",
   "execution_count": 35,
   "metadata": {},
   "outputs": [
    {
     "name": "stdout",
     "output_type": "stream",
     "text": [
      "(array([10, 16, 25, 34], dtype=int64),)\n"
     ]
    },
    {
     "name": "stderr",
     "output_type": "stream",
     "text": [
      "100%|█████████████████████████████████████████████████████████| 40/40 [00:09<00:00,  4.17it/s]\n"
     ]
    },
    {
     "name": "stdout",
     "output_type": "stream",
     "text": [
      "(30336, 12794)\n"
     ]
    }
   ],
   "source": [
    "import numpy as np\n",
    "\n",
    "selected_features = [ True,  True,  True,  True,  True,  True,  True,  True,  True,\n",
    "        True, False,  True,  True,  True,  True,  True, False,  True,\n",
    "        True,  True,  True,  True,  True,  True,  True, False,  True,\n",
    "        True,  True,  True,  True,  True,  True,  True, False,  True,\n",
    "        True,  True,  True,  True]\n",
    "print(show_index(selected_features))\n",
    "train = select_train(selected_features)\n",
    "print(train.shape)"
   ]
  },
  {
   "cell_type": "code",
   "execution_count": null,
   "metadata": {},
   "outputs": [],
   "source": [
    "calculate_auc(train, y)\n",
    "# 0.9559280694365483"
   ]
  },
  {
   "cell_type": "code",
   "execution_count": 33,
   "metadata": {},
   "outputs": [
    {
     "name": "stderr",
     "output_type": "stream",
     "text": [
      "100%|█████████████████████████████████████████████████████████| 40/40 [00:16<00:00,  2.50it/s]\n"
     ]
    },
    {
     "name": "stdout",
     "output_type": "stream",
     "text": [
      "[0.00000000e+00 0.00000000e+00 0.00000000e+00 ... 2.98439752e-05\n",
      " 2.75254402e-05 4.96375509e-05]\n"
     ]
    },
    {
     "data": {
      "text/plain": [
       "0.9531738028709031"
      ]
     },
     "execution_count": 33,
     "metadata": {},
     "output_type": "execute_result"
    }
   ],
   "source": [
    "modelSelection = get_feature_model(train, y)\n",
    "train_trans = modelSelection.transform(train)\n",
    "calculate_auc(train_trans, y)\n",
    "# 0.9531738028709031"
   ]
  },
  {
   "cell_type": "code",
   "execution_count": 42,
   "metadata": {},
   "outputs": [
    {
     "data": {
      "text/plain": [
       "(30336, 2934)"
      ]
     },
     "execution_count": 42,
     "metadata": {},
     "output_type": "execute_result"
    }
   ],
   "source": [
    "train_trans.shape"
   ]
  },
  {
   "cell_type": "code",
   "execution_count": 36,
   "metadata": {},
   "outputs": [
    {
     "data": {
      "text/plain": [
       "array([0.00000000e+00, 0.00000000e+00, 0.00000000e+00, ...,\n",
       "       1.97294762e-05, 2.71300905e-05, 1.60803685e-05])"
      ]
     },
     "execution_count": 36,
     "metadata": {},
     "output_type": "execute_result"
    }
   ],
   "source": [
    "clf = get_extra_tree(train, y)\n",
    "clf.feature_importances_"
   ]
  },
  {
   "cell_type": "code",
   "execution_count": 41,
   "metadata": {},
   "outputs": [
    {
     "data": {
      "text/plain": [
       "(1704,)"
      ]
     },
     "execution_count": 41,
     "metadata": {},
     "output_type": "execute_result"
    }
   ],
   "source": [
    "np.where(clf.feature_importances_ > 0.0001)[0].shape"
   ]
  },
  {
   "cell_type": "markdown",
   "metadata": {},
   "source": [
    "## Some random trial"
   ]
  },
  {
   "cell_type": "code",
   "execution_count": 26,
   "metadata": {},
   "outputs": [
    {
     "name": "stdout",
     "output_type": "stream",
     "text": [
      "(array([27], dtype=int64),)\n"
     ]
    },
    {
     "name": "stderr",
     "output_type": "stream",
     "text": [
      "100%|█████████████████████████████████████████████████████████| 40/40 [00:12<00:00,  3.29it/s]\n"
     ]
    },
    {
     "name": "stdout",
     "output_type": "stream",
     "text": [
      "(30336, 14288)\n"
     ]
    },
    {
     "data": {
      "text/plain": [
       "0.9578389014310529"
      ]
     },
     "execution_count": 26,
     "metadata": {},
     "output_type": "execute_result"
    }
   ],
   "source": [
    "import numpy as np\n",
    "\n",
    "selected_features = [ True,  True,  True,  True,  True,  True,  True,  True,  True,\n",
    "        True, True,  True,  True,  True,  True,  True, True,  True,\n",
    "        True,  True,  True,  True,  True,  True,  True, True,  True,\n",
    "        False,  True,  True,  True,  True,  True,  True, True,  True,\n",
    "        True,  True,  True,  True]\n",
    "print(show_index(selected_features))\n",
    "train = select_train(selected_features)\n",
    "print(train.shape)"
   ]
  },
  {
   "cell_type": "code",
   "execution_count": null,
   "metadata": {},
   "outputs": [],
   "source": [
    "calculate_auc(train, y)\n",
    "# 0.9578389014310529"
   ]
  },
  {
   "cell_type": "code",
   "execution_count": 31,
   "metadata": {},
   "outputs": [
    {
     "name": "stdout",
     "output_type": "stream",
     "text": [
      "[0.00000000e+00 0.00000000e+00 0.00000000e+00 ... 5.14626514e-05\n",
      " 2.03923644e-05 7.09797664e-05]\n"
     ]
    },
    {
     "data": {
      "text/plain": [
       "0.9569397510603413"
      ]
     },
     "execution_count": 31,
     "metadata": {},
     "output_type": "execute_result"
    }
   ],
   "source": [
    "modelSelection = get_feature_model(train, y)\n",
    "train_trans = modelSelection.transform(train)\n",
    "calculate_auc(train_trans, y)\n",
    "# 0.9569397510603413"
   ]
  },
  {
   "cell_type": "markdown",
   "metadata": {},
   "source": [
    "## Some random trial 2"
   ]
  },
  {
   "cell_type": "code",
   "execution_count": 55,
   "metadata": {},
   "outputs": [
    {
     "name": "stdout",
     "output_type": "stream",
     "text": [
      "(array([22, 27], dtype=int64),)\n"
     ]
    },
    {
     "name": "stderr",
     "output_type": "stream",
     "text": [
      "100%|█████████████████████████████████████████████████████████| 40/40 [00:18<00:00,  2.17it/s]\n"
     ]
    },
    {
     "name": "stdout",
     "output_type": "stream",
     "text": [
      "(30336, 13864)\n"
     ]
    }
   ],
   "source": [
    "import numpy as np\n",
    "\n",
    "selected_features = [ True,  True,  True,  True,  True,  True,  True,  True,  True,\n",
    "        True, True,  True,  True,  True,  True,  True, True,  True,\n",
    "        True,  True,  True,  True,  False,  True,  True, True,  True,\n",
    "        False,  True,  True,  True,  True,  True,  True, True,  True,\n",
    "        True,  True,  True,  True]\n",
    "print(show_index(selected_features))\n",
    "train = select_train(selected_features)\n",
    "print(train.shape)"
   ]
  },
  {
   "cell_type": "code",
   "execution_count": 56,
   "metadata": {},
   "outputs": [
    {
     "data": {
      "text/plain": [
       "0.9558481612503212"
      ]
     },
     "execution_count": 56,
     "metadata": {},
     "output_type": "execute_result"
    }
   ],
   "source": [
    "calculate_auc(train, y)\n"
   ]
  },
  {
   "cell_type": "markdown",
   "metadata": {},
   "source": [
    "## Best Feature Group so far"
   ]
  },
  {
   "cell_type": "code",
   "execution_count": 45,
   "metadata": {},
   "outputs": [
    {
     "name": "stdout",
     "output_type": "stream",
     "text": [
      "(array([18], dtype=int64),)\n"
     ]
    },
    {
     "name": "stderr",
     "output_type": "stream",
     "text": [
      "100%|█████████████████████████████████████████████████████████| 40/40 [00:14<00:00,  2.81it/s]\n"
     ]
    },
    {
     "name": "stdout",
     "output_type": "stream",
     "text": [
      "(30336, 14136)\n"
     ]
    }
   ],
   "source": [
    "import numpy as np\n",
    "\n",
    "selected_features = [ True,  True,  True,  True,  True,  True,  True,  True,  True,\n",
    "        True, True,  True,  True,  True,  True,  True, True,  True,\n",
    "        False,  True,  True,  True,  True,  True,  True, True,  True,\n",
    "        True,  True,  True,  True,  True,  True,  True, True,  True,\n",
    "        True,  True,  True,  True]\n",
    "print(show_index(selected_features))\n",
    "train = select_train(selected_features)\n",
    "print(train.shape)"
   ]
  },
  {
   "cell_type": "code",
   "execution_count": 46,
   "metadata": {},
   "outputs": [
    {
     "data": {
      "text/plain": [
       "0.9547855289940256"
      ]
     },
     "execution_count": 46,
     "metadata": {},
     "output_type": "execute_result"
    }
   ],
   "source": [
    "calculate_auc(train, y)\n",
    "# 0.9547855289940256"
   ]
  },
  {
   "cell_type": "code",
   "execution_count": 47,
   "metadata": {},
   "outputs": [
    {
     "name": "stdout",
     "output_type": "stream",
     "text": [
      "[0.00000000e+00 0.00000000e+00 0.00000000e+00 ... 1.71421378e-05\n",
      " 2.05976304e-05 4.93606398e-05]\n"
     ]
    },
    {
     "data": {
      "text/plain": [
       "0.9561219750811085"
      ]
     },
     "execution_count": 47,
     "metadata": {},
     "output_type": "execute_result"
    }
   ],
   "source": [
    "modelSelection = get_feature_model(train, y)\n",
    "train_trans = modelSelection.transform(train)\n",
    "calculate_auc(train_trans, y)\n",
    "# 0.9561219750811085"
   ]
  },
  {
   "cell_type": "markdown",
   "metadata": {},
   "source": [
    "## Trial 3"
   ]
  },
  {
   "cell_type": "code",
   "execution_count": 48,
   "metadata": {},
   "outputs": [
    {
     "name": "stdout",
     "output_type": "stream",
     "text": [
      "(array([10, 16, 18, 25, 27, 34], dtype=int64),)\n"
     ]
    },
    {
     "name": "stderr",
     "output_type": "stream",
     "text": [
      "100%|█████████████████████████████████████████████████████████| 40/40 [00:09<00:00,  4.14it/s]\n"
     ]
    },
    {
     "name": "stdout",
     "output_type": "stream",
     "text": [
      "(30336, 12090)\n"
     ]
    }
   ],
   "source": [
    "import numpy as np\n",
    "\n",
    "selected_features = [ True,  True,  True,  True,  True,  True,  True,  True,  True,\n",
    "        True, False,  True,  True,  True,  True,  True, False,  True,\n",
    "        False,  True,  True,  True,  True,  True,  True, False,  True,\n",
    "        False,  True,  True,  True,  True,  True,  True, False,  True,\n",
    "        True,  True,  True,  True]\n",
    "print(show_index(selected_features))\n",
    "train = select_train(selected_features)\n",
    "print(train.shape)"
   ]
  },
  {
   "cell_type": "code",
   "execution_count": 49,
   "metadata": {},
   "outputs": [
    {
     "data": {
      "text/plain": [
       "0.9549387474428463"
      ]
     },
     "execution_count": 49,
     "metadata": {},
     "output_type": "execute_result"
    }
   ],
   "source": [
    "calculate_auc(train, y)"
   ]
  },
  {
   "cell_type": "markdown",
   "metadata": {},
   "source": [
    "## Trial 4"
   ]
  },
  {
   "cell_type": "code",
   "execution_count": 57,
   "metadata": {},
   "outputs": [
    {
     "name": "stdout",
     "output_type": "stream",
     "text": [
      "(array([13, 27], dtype=int64),)\n"
     ]
    },
    {
     "name": "stderr",
     "output_type": "stream",
     "text": [
      "100%|█████████████████████████████████████████████████████████| 40/40 [00:12<00:00,  3.10it/s]\n"
     ]
    },
    {
     "name": "stdout",
     "output_type": "stream",
     "text": [
      "(30336, 13821)\n"
     ]
    }
   ],
   "source": [
    "import numpy as np\n",
    "\n",
    "selected_features = [ True,  True,  True,  True,  True,  True,  True,  True,  True,\n",
    "        True, True,  True,  True,  False,  True,  True, True,  True,\n",
    "        True,  True,  True,  True,  True,  True,  True, True,  True,\n",
    "        False,  True,  True,  True,  True,  True,  True, True,  True,\n",
    "        True,  True,  True,  True]\n",
    "print(show_index(selected_features))\n",
    "train = select_train(selected_features)\n",
    "print(train.shape)"
   ]
  },
  {
   "cell_type": "code",
   "execution_count": 58,
   "metadata": {},
   "outputs": [
    {
     "data": {
      "text/plain": [
       "0.9508630633939499"
      ]
     },
     "execution_count": 58,
     "metadata": {},
     "output_type": "execute_result"
    }
   ],
   "source": [
    "calculate_auc(train, y)"
   ]
  },
  {
   "cell_type": "markdown",
   "metadata": {},
   "source": [
    "## Trial 5"
   ]
  },
  {
   "cell_type": "code",
   "execution_count": 74,
   "metadata": {},
   "outputs": [
    {
     "name": "stdout",
     "output_type": "stream",
     "text": [
      "(array([18, 27], dtype=int64),)\n"
     ]
    },
    {
     "name": "stderr",
     "output_type": "stream",
     "text": [
      "100%|█████████████████████████████████████████████████████████| 40/40 [00:12<00:00,  3.27it/s]\n"
     ]
    },
    {
     "name": "stdout",
     "output_type": "stream",
     "text": [
      "(30336, 13860)\n"
     ]
    }
   ],
   "source": [
    "import numpy as np\n",
    "\n",
    "selected_features = [ True,  True,  True,  True,  True,  True,  True,  True,  True,\n",
    "        True, True,  True,  True,  True,  True,  True, True,  True,\n",
    "        False,  True,  True,  True,  True,  True,  True, True,  True,\n",
    "        False,  True,  True,  True,  True,  True,  True, True,  True,\n",
    "        True,  True,  True,  True]\n",
    "print(show_index(selected_features))\n",
    "train = select_train(selected_features)\n",
    "print(train.shape)"
   ]
  },
  {
   "cell_type": "code",
   "execution_count": null,
   "metadata": {},
   "outputs": [],
   "source": [
    "calculate_auc(train, y)"
   ]
  },
  {
   "cell_type": "code",
   "execution_count": null,
   "metadata": {},
   "outputs": [],
   "source": [
    "modelSelection = get_feature_model(train, y)\n",
    "train_trans = modelSelection.transform(train)\n",
    "calculate_auc(train_trans, y)"
   ]
  },
  {
   "cell_type": "markdown",
   "metadata": {},
   "source": [
    "## Frequency importance 2 "
   ]
  },
  {
   "cell_type": "code",
   "execution_count": 50,
   "metadata": {},
   "outputs": [
    {
     "name": "stdout",
     "output_type": "stream",
     "text": [
      "(array([ 0,  4,  5,  7,  9, 10, 16, 19, 21, 25, 26, 27, 28, 30, 34, 35, 36,\n",
      "       38], dtype=int64),)\n"
     ]
    },
    {
     "name": "stderr",
     "output_type": "stream",
     "text": [
      "100%|█████████████████████████████████████████████████████████| 40/40 [00:05<00:00,  6.69it/s]\n"
     ]
    },
    {
     "name": "stdout",
     "output_type": "stream",
     "text": [
      "(30336, 7396)\n"
     ]
    }
   ],
   "source": [
    "import numpy as np\n",
    "\n",
    "selected_features = [False,  True,  True,  True, False, False,  True, False,  True,\n",
    "       False, False,  True,  True,  True,  True,  True, False,  True,\n",
    "        True, False,  True, False,  True,  True,  True, False, False,\n",
    "       False, False,  True, False,  True,  True,  True, False, False,\n",
    "       False,  True, False,  True]\n",
    "print(show_index(selected_features))\n",
    "train = select_train(selected_features)\n",
    "print(train.shape)"
   ]
  },
  {
   "cell_type": "code",
   "execution_count": 51,
   "metadata": {},
   "outputs": [
    {
     "data": {
      "text/plain": [
       "0.9523124072854272"
      ]
     },
     "execution_count": 51,
     "metadata": {},
     "output_type": "execute_result"
    }
   ],
   "source": [
    "calculate_auc(train, y)"
   ]
  },
  {
   "cell_type": "markdown",
   "metadata": {},
   "source": [
    "## Real Training"
   ]
  },
  {
   "cell_type": "markdown",
   "metadata": {},
   "source": [
    "### Training with untuned"
   ]
  },
  {
   "cell_type": "code",
   "execution_count": 64,
   "metadata": {},
   "outputs": [
    {
     "name": "stderr",
     "output_type": "stream",
     "text": [
      "100%|█████████████████████████████████████████████████████████| 40/40 [00:13<00:00,  3.01it/s]\n"
     ]
    }
   ],
   "source": [
    "selected_features = [ True,  True,  True,  True,  True,  True,  True,  True,  True,\n",
    "        True, True,  True,  True,  True,  True,  True, True,  True,\n",
    "        False,  True,  True,  True,  True,  True,  True, True,  True,\n",
    "        True,  True,  True,  True,  True,  True,  True, True,  True,\n",
    "        True,  True,  True,  True]\n",
    "\n",
    "XTrain = select_train(selected_features)\n",
    "XTest = select_test(selected_features)"
   ]
  },
  {
   "cell_type": "markdown",
   "metadata": {},
   "source": [
    "modelSelection = get_feature_model(XTrain, y)\n",
    "XTrain = modelSelection.transform(XTrain)\n",
    "XTest = modelSelection.transform(XTest)"
   ]
  },
  {
   "cell_type": "code",
   "execution_count": 63,
   "metadata": {},
   "outputs": [
    {
     "name": "stdout",
     "output_type": "stream",
     "text": [
      "(30336, 3255)\n",
      "(10000, 3255)\n"
     ]
    }
   ],
   "source": [
    "print(XTrain.shape)\n",
    "print(XTest.shape)"
   ]
  },
  {
   "cell_type": "code",
   "execution_count": 61,
   "metadata": {},
   "outputs": [
    {
     "data": {
      "text/plain": [
       "LGBMClassifier(boosting_type='gbdt', class_weight=None, colsample_bytree=1.0,\n",
       "               importance_type='split', learning_rate=0.1, max_depth=-1,\n",
       "               min_child_samples=20, min_child_weight=0.001, min_split_gain=0.0,\n",
       "               n_estimators=100, n_jobs=-1, num_leaves=31, objective=None,\n",
       "               random_state=None, reg_alpha=0.0, reg_lambda=0.0, silent=True,\n",
       "               subsample=1.0, subsample_for_bin=200000, subsample_freq=0)"
      ]
     },
     "execution_count": 61,
     "metadata": {},
     "output_type": "execute_result"
    }
   ],
   "source": [
    "model = LGBMClassifier()\n",
    "model.fit(XTrain, y)"
   ]
  },
  {
   "cell_type": "code",
   "execution_count": 62,
   "metadata": {},
   "outputs": [
    {
     "data": {
      "text/html": [
       "<div>\n",
       "<style scoped>\n",
       "    .dataframe tbody tr th:only-of-type {\n",
       "        vertical-align: middle;\n",
       "    }\n",
       "\n",
       "    .dataframe tbody tr th {\n",
       "        vertical-align: top;\n",
       "    }\n",
       "\n",
       "    .dataframe thead th {\n",
       "        text-align: right;\n",
       "    }\n",
       "</style>\n",
       "<table border=\"1\" class=\"dataframe\">\n",
       "  <thead>\n",
       "    <tr style=\"text-align: right;\">\n",
       "      <th></th>\n",
       "      <th>Id</th>\n",
       "      <th>Predicted</th>\n",
       "    </tr>\n",
       "  </thead>\n",
       "  <tbody>\n",
       "    <tr>\n",
       "      <th>0</th>\n",
       "      <td>0</td>\n",
       "      <td>0.997732</td>\n",
       "    </tr>\n",
       "    <tr>\n",
       "      <th>1</th>\n",
       "      <td>1</td>\n",
       "      <td>0.989903</td>\n",
       "    </tr>\n",
       "    <tr>\n",
       "      <th>2</th>\n",
       "      <td>2</td>\n",
       "      <td>0.990316</td>\n",
       "    </tr>\n",
       "    <tr>\n",
       "      <th>3</th>\n",
       "      <td>3</td>\n",
       "      <td>0.981817</td>\n",
       "    </tr>\n",
       "    <tr>\n",
       "      <th>4</th>\n",
       "      <td>4</td>\n",
       "      <td>0.995938</td>\n",
       "    </tr>\n",
       "    <tr>\n",
       "      <th>5</th>\n",
       "      <td>5</td>\n",
       "      <td>0.987671</td>\n",
       "    </tr>\n",
       "    <tr>\n",
       "      <th>6</th>\n",
       "      <td>6</td>\n",
       "      <td>0.983008</td>\n",
       "    </tr>\n",
       "    <tr>\n",
       "      <th>7</th>\n",
       "      <td>7</td>\n",
       "      <td>0.666072</td>\n",
       "    </tr>\n",
       "    <tr>\n",
       "      <th>8</th>\n",
       "      <td>8</td>\n",
       "      <td>0.994786</td>\n",
       "    </tr>\n",
       "    <tr>\n",
       "      <th>9</th>\n",
       "      <td>9</td>\n",
       "      <td>0.997367</td>\n",
       "    </tr>\n",
       "    <tr>\n",
       "      <th>10</th>\n",
       "      <td>10</td>\n",
       "      <td>0.124058</td>\n",
       "    </tr>\n",
       "    <tr>\n",
       "      <th>11</th>\n",
       "      <td>11</td>\n",
       "      <td>0.996884</td>\n",
       "    </tr>\n",
       "    <tr>\n",
       "      <th>12</th>\n",
       "      <td>12</td>\n",
       "      <td>0.979374</td>\n",
       "    </tr>\n",
       "    <tr>\n",
       "      <th>13</th>\n",
       "      <td>13</td>\n",
       "      <td>0.991127</td>\n",
       "    </tr>\n",
       "    <tr>\n",
       "      <th>14</th>\n",
       "      <td>14</td>\n",
       "      <td>0.997483</td>\n",
       "    </tr>\n",
       "    <tr>\n",
       "      <th>15</th>\n",
       "      <td>15</td>\n",
       "      <td>0.853843</td>\n",
       "    </tr>\n",
       "    <tr>\n",
       "      <th>16</th>\n",
       "      <td>16</td>\n",
       "      <td>0.997664</td>\n",
       "    </tr>\n",
       "    <tr>\n",
       "      <th>17</th>\n",
       "      <td>17</td>\n",
       "      <td>0.991660</td>\n",
       "    </tr>\n",
       "    <tr>\n",
       "      <th>18</th>\n",
       "      <td>18</td>\n",
       "      <td>0.882827</td>\n",
       "    </tr>\n",
       "    <tr>\n",
       "      <th>19</th>\n",
       "      <td>19</td>\n",
       "      <td>0.938499</td>\n",
       "    </tr>\n",
       "    <tr>\n",
       "      <th>20</th>\n",
       "      <td>20</td>\n",
       "      <td>0.992802</td>\n",
       "    </tr>\n",
       "    <tr>\n",
       "      <th>21</th>\n",
       "      <td>21</td>\n",
       "      <td>0.965633</td>\n",
       "    </tr>\n",
       "    <tr>\n",
       "      <th>22</th>\n",
       "      <td>22</td>\n",
       "      <td>0.975632</td>\n",
       "    </tr>\n",
       "    <tr>\n",
       "      <th>23</th>\n",
       "      <td>23</td>\n",
       "      <td>0.990217</td>\n",
       "    </tr>\n",
       "    <tr>\n",
       "      <th>24</th>\n",
       "      <td>24</td>\n",
       "      <td>0.994343</td>\n",
       "    </tr>\n",
       "    <tr>\n",
       "      <th>25</th>\n",
       "      <td>25</td>\n",
       "      <td>0.995414</td>\n",
       "    </tr>\n",
       "    <tr>\n",
       "      <th>26</th>\n",
       "      <td>26</td>\n",
       "      <td>0.997857</td>\n",
       "    </tr>\n",
       "    <tr>\n",
       "      <th>27</th>\n",
       "      <td>27</td>\n",
       "      <td>0.995560</td>\n",
       "    </tr>\n",
       "    <tr>\n",
       "      <th>28</th>\n",
       "      <td>28</td>\n",
       "      <td>0.993383</td>\n",
       "    </tr>\n",
       "    <tr>\n",
       "      <th>29</th>\n",
       "      <td>29</td>\n",
       "      <td>0.928091</td>\n",
       "    </tr>\n",
       "    <tr>\n",
       "      <th>...</th>\n",
       "      <td>...</td>\n",
       "      <td>...</td>\n",
       "    </tr>\n",
       "    <tr>\n",
       "      <th>9970</th>\n",
       "      <td>9970</td>\n",
       "      <td>0.987021</td>\n",
       "    </tr>\n",
       "    <tr>\n",
       "      <th>9971</th>\n",
       "      <td>9971</td>\n",
       "      <td>0.992853</td>\n",
       "    </tr>\n",
       "    <tr>\n",
       "      <th>9972</th>\n",
       "      <td>9972</td>\n",
       "      <td>0.988504</td>\n",
       "    </tr>\n",
       "    <tr>\n",
       "      <th>9973</th>\n",
       "      <td>9973</td>\n",
       "      <td>0.995718</td>\n",
       "    </tr>\n",
       "    <tr>\n",
       "      <th>9974</th>\n",
       "      <td>9974</td>\n",
       "      <td>0.994344</td>\n",
       "    </tr>\n",
       "    <tr>\n",
       "      <th>9975</th>\n",
       "      <td>9975</td>\n",
       "      <td>0.991338</td>\n",
       "    </tr>\n",
       "    <tr>\n",
       "      <th>9976</th>\n",
       "      <td>9976</td>\n",
       "      <td>0.984757</td>\n",
       "    </tr>\n",
       "    <tr>\n",
       "      <th>9977</th>\n",
       "      <td>9977</td>\n",
       "      <td>0.991575</td>\n",
       "    </tr>\n",
       "    <tr>\n",
       "      <th>9978</th>\n",
       "      <td>9978</td>\n",
       "      <td>0.955418</td>\n",
       "    </tr>\n",
       "    <tr>\n",
       "      <th>9979</th>\n",
       "      <td>9979</td>\n",
       "      <td>0.989866</td>\n",
       "    </tr>\n",
       "    <tr>\n",
       "      <th>9980</th>\n",
       "      <td>9980</td>\n",
       "      <td>0.995104</td>\n",
       "    </tr>\n",
       "    <tr>\n",
       "      <th>9981</th>\n",
       "      <td>9981</td>\n",
       "      <td>0.996287</td>\n",
       "    </tr>\n",
       "    <tr>\n",
       "      <th>9982</th>\n",
       "      <td>9982</td>\n",
       "      <td>0.994977</td>\n",
       "    </tr>\n",
       "    <tr>\n",
       "      <th>9983</th>\n",
       "      <td>9983</td>\n",
       "      <td>0.324872</td>\n",
       "    </tr>\n",
       "    <tr>\n",
       "      <th>9984</th>\n",
       "      <td>9984</td>\n",
       "      <td>0.998499</td>\n",
       "    </tr>\n",
       "    <tr>\n",
       "      <th>9985</th>\n",
       "      <td>9985</td>\n",
       "      <td>0.997782</td>\n",
       "    </tr>\n",
       "    <tr>\n",
       "      <th>9986</th>\n",
       "      <td>9986</td>\n",
       "      <td>0.988805</td>\n",
       "    </tr>\n",
       "    <tr>\n",
       "      <th>9987</th>\n",
       "      <td>9987</td>\n",
       "      <td>0.997013</td>\n",
       "    </tr>\n",
       "    <tr>\n",
       "      <th>9988</th>\n",
       "      <td>9988</td>\n",
       "      <td>0.996273</td>\n",
       "    </tr>\n",
       "    <tr>\n",
       "      <th>9989</th>\n",
       "      <td>9989</td>\n",
       "      <td>0.998979</td>\n",
       "    </tr>\n",
       "    <tr>\n",
       "      <th>9990</th>\n",
       "      <td>9990</td>\n",
       "      <td>0.996948</td>\n",
       "    </tr>\n",
       "    <tr>\n",
       "      <th>9991</th>\n",
       "      <td>9991</td>\n",
       "      <td>0.991854</td>\n",
       "    </tr>\n",
       "    <tr>\n",
       "      <th>9992</th>\n",
       "      <td>9992</td>\n",
       "      <td>0.990054</td>\n",
       "    </tr>\n",
       "    <tr>\n",
       "      <th>9993</th>\n",
       "      <td>9993</td>\n",
       "      <td>0.981397</td>\n",
       "    </tr>\n",
       "    <tr>\n",
       "      <th>9994</th>\n",
       "      <td>9994</td>\n",
       "      <td>0.994921</td>\n",
       "    </tr>\n",
       "    <tr>\n",
       "      <th>9995</th>\n",
       "      <td>9995</td>\n",
       "      <td>0.993039</td>\n",
       "    </tr>\n",
       "    <tr>\n",
       "      <th>9996</th>\n",
       "      <td>9996</td>\n",
       "      <td>0.990000</td>\n",
       "    </tr>\n",
       "    <tr>\n",
       "      <th>9997</th>\n",
       "      <td>9997</td>\n",
       "      <td>0.994460</td>\n",
       "    </tr>\n",
       "    <tr>\n",
       "      <th>9998</th>\n",
       "      <td>9998</td>\n",
       "      <td>0.995688</td>\n",
       "    </tr>\n",
       "    <tr>\n",
       "      <th>9999</th>\n",
       "      <td>9999</td>\n",
       "      <td>0.998598</td>\n",
       "    </tr>\n",
       "  </tbody>\n",
       "</table>\n",
       "<p>10000 rows × 2 columns</p>\n",
       "</div>"
      ],
      "text/plain": [
       "        Id  Predicted\n",
       "0        0   0.997732\n",
       "1        1   0.989903\n",
       "2        2   0.990316\n",
       "3        3   0.981817\n",
       "4        4   0.995938\n",
       "5        5   0.987671\n",
       "6        6   0.983008\n",
       "7        7   0.666072\n",
       "8        8   0.994786\n",
       "9        9   0.997367\n",
       "10      10   0.124058\n",
       "11      11   0.996884\n",
       "12      12   0.979374\n",
       "13      13   0.991127\n",
       "14      14   0.997483\n",
       "15      15   0.853843\n",
       "16      16   0.997664\n",
       "17      17   0.991660\n",
       "18      18   0.882827\n",
       "19      19   0.938499\n",
       "20      20   0.992802\n",
       "21      21   0.965633\n",
       "22      22   0.975632\n",
       "23      23   0.990217\n",
       "24      24   0.994343\n",
       "25      25   0.995414\n",
       "26      26   0.997857\n",
       "27      27   0.995560\n",
       "28      28   0.993383\n",
       "29      29   0.928091\n",
       "...    ...        ...\n",
       "9970  9970   0.987021\n",
       "9971  9971   0.992853\n",
       "9972  9972   0.988504\n",
       "9973  9973   0.995718\n",
       "9974  9974   0.994344\n",
       "9975  9975   0.991338\n",
       "9976  9976   0.984757\n",
       "9977  9977   0.991575\n",
       "9978  9978   0.955418\n",
       "9979  9979   0.989866\n",
       "9980  9980   0.995104\n",
       "9981  9981   0.996287\n",
       "9982  9982   0.994977\n",
       "9983  9983   0.324872\n",
       "9984  9984   0.998499\n",
       "9985  9985   0.997782\n",
       "9986  9986   0.988805\n",
       "9987  9987   0.997013\n",
       "9988  9988   0.996273\n",
       "9989  9989   0.998979\n",
       "9990  9990   0.996948\n",
       "9991  9991   0.991854\n",
       "9992  9992   0.990054\n",
       "9993  9993   0.981397\n",
       "9994  9994   0.994921\n",
       "9995  9995   0.993039\n",
       "9996  9996   0.990000\n",
       "9997  9997   0.994460\n",
       "9998  9998   0.995688\n",
       "9999  9999   0.998598\n",
       "\n",
       "[10000 rows x 2 columns]"
      ]
     },
     "execution_count": 62,
     "metadata": {},
     "output_type": "execute_result"
    }
   ],
   "source": [
    "probs = model.predict_proba(XTest)\n",
    "YTest = probs[:, 0]\n",
    "df_test['Predicted'] = YTest\n",
    "df_test.to_csv('test.csv', index=False)\n",
    "df_test"
   ]
  },
  {
   "cell_type": "markdown",
   "metadata": {},
   "source": [
    "### Split"
   ]
  },
  {
   "cell_type": "code",
   "execution_count": 65,
   "metadata": {},
   "outputs": [],
   "source": [
    "from sklearn.model_selection import train_test_split\n",
    "\n",
    "X_train, X_valid, y_train, y_valid = train_test_split(XTrain, y, test_size=0.2, random_state=42)"
   ]
  },
  {
   "cell_type": "code",
   "execution_count": 66,
   "metadata": {},
   "outputs": [],
   "source": [
    "import lightgbm as lgb\n",
    "\n",
    "train_set = lgb.Dataset(X_train, y_train)\n",
    "valid_set = lgb.Dataset(X_valid, y_valid)"
   ]
  },
  {
   "cell_type": "code",
   "execution_count": 67,
   "metadata": {
    "scrolled": true
   },
   "outputs": [
    {
     "name": "stdout",
     "output_type": "stream",
     "text": [
      "[1]\tvalid_0's auc: 0.854788\n",
      "Training until validation scores don't improve for 5 rounds\n",
      "[2]\tvalid_0's auc: 0.883097\n",
      "[3]\tvalid_0's auc: 0.905796\n",
      "[4]\tvalid_0's auc: 0.913159\n",
      "[5]\tvalid_0's auc: 0.920977\n",
      "Did not meet early stopping. Best iteration is:\n",
      "[5]\tvalid_0's auc: 0.920977\n"
     ]
    },
    {
     "data": {
      "text/plain": [
       "5"
      ]
     },
     "execution_count": 67,
     "metadata": {},
     "output_type": "execute_result"
    }
   ],
   "source": [
    "param = {'num_leaves': 31, 'objective': 'binary'}\n",
    "param['metric'] = 'auc'\n",
    "bst = lgb.train(param, train_set, 5, valid_sets=valid_set, early_stopping_rounds=5)\n",
    "bst.best_iteration "
   ]
  },
  {
   "cell_type": "code",
   "execution_count": 68,
   "metadata": {},
   "outputs": [
    {
     "data": {
      "text/plain": [
       "0.9209772184693477"
      ]
     },
     "execution_count": 68,
     "metadata": {},
     "output_type": "execute_result"
    }
   ],
   "source": [
    "bst.best_score['valid_0']['auc']"
   ]
  },
  {
   "cell_type": "code",
   "execution_count": 69,
   "metadata": {},
   "outputs": [],
   "source": [
    "import lightgbm as lgb\n",
    "from hyperopt import STATUS_OK\n",
    "\n",
    "ITER = 50\n",
    "STOP_ROUND = 5\n",
    "\n",
    "# Create the dataset\n",
    "def objective(params):\n",
    "    \"\"\"Objective function for Gradient Boosting Machine Hyperparameter Tuning\"\"\"\n",
    "    params['num_leaves'] = int(params['num_leaves'])\n",
    "    params['subsample_for_bin'] = int(params['subsample_for_bin'])\n",
    "    params['min_child_samples'] = int(params['min_child_samples'])\n",
    "    # Perform n_fold cross validation with hyperparameters\n",
    "    # Use early stopping and evalute based on ROC AUC\n",
    "    bst = lgb.train(params, train_set, ITER, valid_sets=valid_set, early_stopping_rounds=STOP_ROUND)\n",
    "    bst.save_model('model.txt', num_iteration=bst.best_iteration)\n",
    "  \n",
    "    # Extract the best score\n",
    "    best_score = bst.best_score['valid_0']['auc']\n",
    "    \n",
    "    # Loss must be minimized\n",
    "    loss = np.log(1 - best_score)\n",
    "    \n",
    "    # Dictionary with information for evaluation\n",
    "    return {'loss': loss, 'params': params, 'status': STATUS_OK}"
   ]
  },
  {
   "cell_type": "code",
   "execution_count": 70,
   "metadata": {},
   "outputs": [
    {
     "data": {
      "text/plain": [
       "{'boosting_type': 'dart',\n",
       " 'num_leaves': <hyperopt.pyll.base.Apply at 0x2469af63780>,\n",
       " 'learning_rate': <hyperopt.pyll.base.Apply at 0x2469b0e0160>,\n",
       " 'subsample_for_bin': <hyperopt.pyll.base.Apply at 0x2469b0e01d0>,\n",
       " 'min_child_samples': <hyperopt.pyll.base.Apply at 0x246a14d24e0>,\n",
       " 'reg_alpha': <hyperopt.pyll.base.Apply at 0x246a14d2668>,\n",
       " 'reg_lambda': <hyperopt.pyll.base.Apply at 0x246a14d27b8>,\n",
       " 'colsample_bytree': <hyperopt.pyll.base.Apply at 0x246a14d2908>,\n",
       " 'metric': 'auc'}"
      ]
     },
     "execution_count": 70,
     "metadata": {},
     "output_type": "execute_result"
    }
   ],
   "source": [
    "from hyperopt import hp\n",
    "\n",
    "# Define the search space\n",
    "space = {\n",
    "    'boosting_type': 'dart',\n",
    "    'num_leaves': hp.quniform('num_leaves', 30, 150, 1),\n",
    "    'learning_rate': hp.loguniform('learning_rate', np.log(0.01), np.log(0.2)),\n",
    "    'subsample_for_bin': hp.quniform('subsample_for_bin', 20000, 300000, 20000),\n",
    "    'min_child_samples': hp.quniform('min_child_samples', 20, 500, 5),\n",
    "    'reg_alpha': hp.uniform('reg_alpha', 0.0, 1.0),\n",
    "    'reg_lambda': hp.uniform('reg_lambda', 0.0, 1.0),\n",
    "    'colsample_bytree': hp.uniform('colsample_by_tree', 0.6, 1.0),\n",
    "    'metric': 'auc'\n",
    "}\n",
    "\n",
    "space"
   ]
  },
  {
   "cell_type": "code",
   "execution_count": 71,
   "metadata": {},
   "outputs": [],
   "source": [
    "from hyperopt import Trials\n",
    "# Trials object to track progress\n",
    "bayes_trials = Trials()"
   ]
  },
  {
   "cell_type": "code",
   "execution_count": 72,
   "metadata": {},
   "outputs": [
    {
     "name": "stdout",
     "output_type": "stream",
     "text": [
      "[1]\tvalid_0's auc: 0.894167                                                                   \n",
      "  0%|                                                   | 0/500 [00:13<?, ?it/s, best loss: ?]"
     ]
    },
    {
     "name": "stderr",
     "output_type": "stream",
     "text": [
      "C:\\ProgramData\\Anaconda3\\lib\\site-packages\\lightgbm\\callback.py:192: UserWarning: Early stopping is not available in dart mode\n",
      "  warnings.warn('Early stopping is not available in dart mode')\n",
      "\n"
     ]
    },
    {
     "name": "stdout",
     "output_type": "stream",
     "text": [
      "[2]\tvalid_0's auc: 0.91234                                                                    \n",
      "[3]\tvalid_0's auc: 0.918737                                                                   \n",
      "[4]\tvalid_0's auc: 0.927582                                                                   \n",
      "[5]\tvalid_0's auc: 0.928691                                                                   \n",
      "[6]\tvalid_0's auc: 0.930408                                                                   \n",
      "[7]\tvalid_0's auc: 0.934816                                                                   \n",
      "[8]\tvalid_0's auc: 0.93631                                                                    \n",
      "[9]\tvalid_0's auc: 0.937947                                                                   \n",
      "[10]\tvalid_0's auc: 0.938284                                                                  \n",
      "[11]\tvalid_0's auc: 0.937886                                                                  \n",
      "[12]\tvalid_0's auc: 0.941127                                                                  \n",
      "[13]\tvalid_0's auc: 0.93981                                                                   \n",
      "[14]\tvalid_0's auc: 0.94024                                                                   \n",
      "[15]\tvalid_0's auc: 0.93985                                                                   \n",
      "[16]\tvalid_0's auc: 0.940571                                                                  \n",
      "[17]\tvalid_0's auc: 0.939791                                                                  \n",
      "[18]\tvalid_0's auc: 0.939551                                                                  \n",
      "[19]\tvalid_0's auc: 0.940991                                                                  \n",
      "[20]\tvalid_0's auc: 0.940209                                                                  \n",
      "[21]\tvalid_0's auc: 0.941147                                                                  \n",
      "[22]\tvalid_0's auc: 0.940983                                                                  \n",
      "[23]\tvalid_0's auc: 0.940616                                                                  \n",
      "[24]\tvalid_0's auc: 0.940759                                                                  \n",
      "[25]\tvalid_0's auc: 0.940067                                                                  \n",
      "[26]\tvalid_0's auc: 0.940945                                                                  \n",
      "[27]\tvalid_0's auc: 0.940681                                                                  \n",
      "[28]\tvalid_0's auc: 0.940796                                                                  \n",
      "[29]\tvalid_0's auc: 0.940791                                                                  \n",
      "[30]\tvalid_0's auc: 0.940479                                                                  \n",
      "[31]\tvalid_0's auc: 0.940139                                                                  \n",
      "[32]\tvalid_0's auc: 0.941722                                                                  \n",
      "[33]\tvalid_0's auc: 0.941594                                                                  \n",
      "[34]\tvalid_0's auc: 0.941726                                                                  \n",
      "[35]\tvalid_0's auc: 0.942114                                                                  \n",
      "[36]\tvalid_0's auc: 0.941955                                                                  \n",
      "[37]\tvalid_0's auc: 0.942033                                                                  \n",
      "[38]\tvalid_0's auc: 0.942683                                                                  \n",
      "[39]\tvalid_0's auc: 0.941608                                                                  \n",
      "[40]\tvalid_0's auc: 0.941098                                                                  \n",
      "[41]\tvalid_0's auc: 0.940885                                                                  \n",
      "[42]\tvalid_0's auc: 0.940744                                                                  \n",
      "[43]\tvalid_0's auc: 0.940925                                                                  \n",
      "[44]\tvalid_0's auc: 0.939693                                                                  \n",
      "[45]\tvalid_0's auc: 0.93977                                                                   \n",
      "[46]\tvalid_0's auc: 0.939542                                                                  \n",
      "[47]\tvalid_0's auc: 0.939529                                                                  \n",
      "[48]\tvalid_0's auc: 0.939721                                                                  \n",
      "[49]\tvalid_0's auc: 0.940067                                                                  \n",
      "[50]\tvalid_0's auc: 0.940617                                                                  \n",
      "[1]\tvalid_0's auc: 0.903676                                                                   \n",
      "[2]\tvalid_0's auc: 0.91458                                                                    \n",
      "[3]\tvalid_0's auc: 0.91855                                                                    \n",
      "[4]\tvalid_0's auc: 0.92303                                                                    \n",
      "[5]\tvalid_0's auc: 0.923675                                                                   \n",
      "[6]\tvalid_0's auc: 0.924232                                                                   \n",
      "[7]\tvalid_0's auc: 0.924387                                                                   \n",
      "[8]\tvalid_0's auc: 0.924029                                                                   \n",
      "[9]\tvalid_0's auc: 0.92349                                                                    \n",
      "[10]\tvalid_0's auc: 0.923859                                                                  \n",
      "[11]\tvalid_0's auc: 0.923199                                                                  \n",
      "[12]\tvalid_0's auc: 0.923768                                                                  \n",
      "[13]\tvalid_0's auc: 0.924893                                                                  \n",
      "[14]\tvalid_0's auc: 0.925828                                                                  \n",
      "[15]\tvalid_0's auc: 0.92629                                                                   \n",
      "[16]\tvalid_0's auc: 0.927425                                                                  \n",
      "[17]\tvalid_0's auc: 0.928108                                                                  \n",
      "[18]\tvalid_0's auc: 0.928863                                                                  \n",
      "[19]\tvalid_0's auc: 0.929054                                                                  \n",
      "[20]\tvalid_0's auc: 0.929255                                                                  \n",
      "[21]\tvalid_0's auc: 0.929323                                                                  \n",
      "[22]\tvalid_0's auc: 0.929873                                                                  \n",
      "[23]\tvalid_0's auc: 0.930222                                                                  \n",
      "[24]\tvalid_0's auc: 0.930241                                                                  \n",
      "[25]\tvalid_0's auc: 0.93035                                                                   \n",
      "[26]\tvalid_0's auc: 0.930737                                                                  \n",
      "[27]\tvalid_0's auc: 0.931029                                                                  \n",
      "[28]\tvalid_0's auc: 0.931106                                                                  \n",
      "[29]\tvalid_0's auc: 0.931529                                                                  \n",
      "[30]\tvalid_0's auc: 0.931391                                                                  \n",
      "[31]\tvalid_0's auc: 0.931847                                                                  \n",
      "[32]\tvalid_0's auc: 0.931957                                                                  \n",
      "[33]\tvalid_0's auc: 0.932492                                                                  \n",
      "[34]\tvalid_0's auc: 0.932652                                                                  \n",
      "[35]\tvalid_0's auc: 0.932518                                                                  \n",
      "[36]\tvalid_0's auc: 0.932423                                                                  \n",
      "[37]\tvalid_0's auc: 0.932839                                                                  \n"
     ]
    },
    {
     "name": "stdout",
     "output_type": "stream",
     "text": [
      "[38]\tvalid_0's auc: 0.933668                                                                  \n",
      "[39]\tvalid_0's auc: 0.933655                                                                  \n",
      "[40]\tvalid_0's auc: 0.934                                                                     \n",
      "[41]\tvalid_0's auc: 0.933982                                                                  \n",
      "[42]\tvalid_0's auc: 0.934339                                                                  \n",
      "[43]\tvalid_0's auc: 0.934252                                                                  \n",
      "[44]\tvalid_0's auc: 0.934319                                                                  \n",
      "[45]\tvalid_0's auc: 0.93458                                                                   \n",
      "[46]\tvalid_0's auc: 0.934631                                                                  \n",
      "[47]\tvalid_0's auc: 0.934545                                                                  \n",
      "[48]\tvalid_0's auc: 0.93484                                                                   \n",
      "[49]\tvalid_0's auc: 0.934912                                                                  \n",
      "[50]\tvalid_0's auc: 0.935053                                                                  \n",
      "[1]\tvalid_0's auc: 0.901198                                                                   \n",
      "[2]\tvalid_0's auc: 0.90671                                                                    \n",
      "[3]\tvalid_0's auc: 0.915306                                                                   \n",
      "[4]\tvalid_0's auc: 0.920525                                                                   \n",
      "[5]\tvalid_0's auc: 0.92373                                                                    \n",
      "[6]\tvalid_0's auc: 0.923932                                                                   \n",
      "[7]\tvalid_0's auc: 0.924012                                                                   \n",
      "[8]\tvalid_0's auc: 0.924616                                                                   \n",
      "[9]\tvalid_0's auc: 0.924681                                                                   \n",
      "[10]\tvalid_0's auc: 0.925265                                                                  \n",
      "[11]\tvalid_0's auc: 0.925305                                                                  \n",
      "[12]\tvalid_0's auc: 0.925217                                                                  \n",
      "[13]\tvalid_0's auc: 0.924761                                                                  \n",
      "[14]\tvalid_0's auc: 0.925036                                                                  \n",
      "[15]\tvalid_0's auc: 0.92499                                                                   \n",
      "[16]\tvalid_0's auc: 0.924838                                                                  \n",
      "[17]\tvalid_0's auc: 0.925539                                                                  \n",
      "[18]\tvalid_0's auc: 0.925129                                                                  \n",
      "[19]\tvalid_0's auc: 0.926116                                                                  \n",
      "[20]\tvalid_0's auc: 0.926541                                                                  \n",
      "[21]\tvalid_0's auc: 0.926484                                                                  \n",
      "[22]\tvalid_0's auc: 0.926394                                                                  \n",
      "[23]\tvalid_0's auc: 0.927407                                                                  \n",
      "[24]\tvalid_0's auc: 0.92852                                                                   \n",
      "[25]\tvalid_0's auc: 0.92876                                                                   \n",
      "[26]\tvalid_0's auc: 0.929233                                                                  \n",
      "[27]\tvalid_0's auc: 0.92934                                                                   \n",
      "[28]\tvalid_0's auc: 0.929227                                                                  \n",
      "[29]\tvalid_0's auc: 0.930037                                                                  \n",
      "[30]\tvalid_0's auc: 0.930138                                                                  \n",
      "[31]\tvalid_0's auc: 0.930226                                                                  \n",
      "[32]\tvalid_0's auc: 0.930305                                                                  \n",
      "[33]\tvalid_0's auc: 0.930798                                                                  \n",
      "[34]\tvalid_0's auc: 0.930823                                                                  \n",
      "[35]\tvalid_0's auc: 0.930945                                                                  \n",
      "[36]\tvalid_0's auc: 0.930821                                                                  \n",
      "[37]\tvalid_0's auc: 0.930852                                                                  \n",
      "[38]\tvalid_0's auc: 0.931028                                                                  \n",
      "[39]\tvalid_0's auc: 0.930953                                                                  \n",
      "[40]\tvalid_0's auc: 0.931422                                                                  \n",
      "[41]\tvalid_0's auc: 0.931379                                                                  \n",
      "[42]\tvalid_0's auc: 0.931712                                                                  \n",
      "[43]\tvalid_0's auc: 0.931732                                                                  \n",
      "[44]\tvalid_0's auc: 0.931916                                                                  \n",
      "[45]\tvalid_0's auc: 0.932188                                                                  \n",
      "[46]\tvalid_0's auc: 0.932122                                                                  \n",
      "[47]\tvalid_0's auc: 0.932354                                                                  \n",
      "[48]\tvalid_0's auc: 0.932556                                                                  \n",
      "[49]\tvalid_0's auc: 0.932576                                                                  \n",
      "[50]\tvalid_0's auc: 0.932634                                                                  \n",
      "[1]\tvalid_0's auc: 0.896001                                                                   \n",
      "[2]\tvalid_0's auc: 0.906598                                                                   \n",
      "[3]\tvalid_0's auc: 0.911715                                                                   \n",
      "[4]\tvalid_0's auc: 0.916283                                                                   \n",
      "[5]\tvalid_0's auc: 0.921393                                                                   \n",
      "[6]\tvalid_0's auc: 0.922452                                                                   \n",
      "[7]\tvalid_0's auc: 0.923167                                                                   \n",
      "[8]\tvalid_0's auc: 0.923487                                                                   \n",
      "[9]\tvalid_0's auc: 0.923201                                                                   \n",
      "[10]\tvalid_0's auc: 0.926688                                                                  \n",
      "[11]\tvalid_0's auc: 0.928032                                                                  \n",
      "[12]\tvalid_0's auc: 0.927509                                                                  \n",
      "[13]\tvalid_0's auc: 0.928532                                                                  \n",
      "[14]\tvalid_0's auc: 0.928858                                                                  \n",
      "[15]\tvalid_0's auc: 0.930362                                                                  \n",
      "[16]\tvalid_0's auc: 0.930384                                                                  \n",
      "[17]\tvalid_0's auc: 0.931136                                                                  \n",
      "[18]\tvalid_0's auc: 0.931739                                                                  \n",
      "[19]\tvalid_0's auc: 0.932298                                                                  \n",
      "[20]\tvalid_0's auc: 0.932973                                                                  \n",
      "[21]\tvalid_0's auc: 0.933177                                                                  \n",
      "[22]\tvalid_0's auc: 0.933703                                                                  \n",
      "[23]\tvalid_0's auc: 0.934659                                                                  \n"
     ]
    },
    {
     "name": "stdout",
     "output_type": "stream",
     "text": [
      "[24]\tvalid_0's auc: 0.934559                                                                  \n",
      "[25]\tvalid_0's auc: 0.935624                                                                  \n",
      "[26]\tvalid_0's auc: 0.93593                                                                   \n",
      "[27]\tvalid_0's auc: 0.936511                                                                  \n",
      "[28]\tvalid_0's auc: 0.936301                                                                  \n",
      "[29]\tvalid_0's auc: 0.937284                                                                  \n",
      "[30]\tvalid_0's auc: 0.937594                                                                  \n",
      "[31]\tvalid_0's auc: 0.937785                                                                  \n",
      "[32]\tvalid_0's auc: 0.938929                                                                  \n",
      "[33]\tvalid_0's auc: 0.938917                                                                  \n",
      "[34]\tvalid_0's auc: 0.939429                                                                  \n",
      "[35]\tvalid_0's auc: 0.939545                                                                  \n",
      "[36]\tvalid_0's auc: 0.93956                                                                   \n",
      "[37]\tvalid_0's auc: 0.939839                                                                  \n",
      "[38]\tvalid_0's auc: 0.939562                                                                  \n",
      "[39]\tvalid_0's auc: 0.940328                                                                  \n",
      "[40]\tvalid_0's auc: 0.940707                                                                  \n",
      "[41]\tvalid_0's auc: 0.940632                                                                  \n",
      "[42]\tvalid_0's auc: 0.940583                                                                  \n",
      "[43]\tvalid_0's auc: 0.940623                                                                  \n",
      "[44]\tvalid_0's auc: 0.940625                                                                  \n",
      "[45]\tvalid_0's auc: 0.940908                                                                  \n",
      "[46]\tvalid_0's auc: 0.940864                                                                  \n",
      "[47]\tvalid_0's auc: 0.940858                                                                  \n",
      "[48]\tvalid_0's auc: 0.940813                                                                  \n",
      "[49]\tvalid_0's auc: 0.940956                                                                  \n",
      "[50]\tvalid_0's auc: 0.940871                                                                  \n",
      "[1]\tvalid_0's auc: 0.90574                                                                    \n",
      "[2]\tvalid_0's auc: 0.913409                                                                   \n",
      "[3]\tvalid_0's auc: 0.923048                                                                   \n",
      "[4]\tvalid_0's auc: 0.92376                                                                    \n",
      "[5]\tvalid_0's auc: 0.925449                                                                   \n",
      "[6]\tvalid_0's auc: 0.927357                                                                   \n",
      "[7]\tvalid_0's auc: 0.926903                                                                   \n",
      "[8]\tvalid_0's auc: 0.926945                                                                   \n",
      "[9]\tvalid_0's auc: 0.927787                                                                   \n",
      "[10]\tvalid_0's auc: 0.927669                                                                  \n",
      "[11]\tvalid_0's auc: 0.927568                                                                  \n",
      "[12]\tvalid_0's auc: 0.927592                                                                  \n",
      "[13]\tvalid_0's auc: 0.92741                                                                   \n",
      "[14]\tvalid_0's auc: 0.928695                                                                  \n",
      "[15]\tvalid_0's auc: 0.928209                                                                  \n",
      "[16]\tvalid_0's auc: 0.929191                                                                  \n",
      "[17]\tvalid_0's auc: 0.92978                                                                   \n",
      "[18]\tvalid_0's auc: 0.930121                                                                  \n",
      "[19]\tvalid_0's auc: 0.929944                                                                  \n",
      "[20]\tvalid_0's auc: 0.930396                                                                  \n",
      "[21]\tvalid_0's auc: 0.930277                                                                  \n",
      "[22]\tvalid_0's auc: 0.929992                                                                  \n",
      "[23]\tvalid_0's auc: 0.930547                                                                  \n",
      "[24]\tvalid_0's auc: 0.929953                                                                  \n",
      "[25]\tvalid_0's auc: 0.930498                                                                  \n",
      "[26]\tvalid_0's auc: 0.930498                                                                  \n",
      "[27]\tvalid_0's auc: 0.93096                                                                   \n",
      "[28]\tvalid_0's auc: 0.930963                                                                  \n",
      "[29]\tvalid_0's auc: 0.931564                                                                  \n",
      "[30]\tvalid_0's auc: 0.931649                                                                  \n",
      "[31]\tvalid_0's auc: 0.931659                                                                  \n",
      "[32]\tvalid_0's auc: 0.931605                                                                  \n",
      "[33]\tvalid_0's auc: 0.931696                                                                  \n",
      "[34]\tvalid_0's auc: 0.931691                                                                  \n",
      "[35]\tvalid_0's auc: 0.931657                                                                  \n",
      "[36]\tvalid_0's auc: 0.931559                                                                  \n",
      "[37]\tvalid_0's auc: 0.931349                                                                  \n",
      "[38]\tvalid_0's auc: 0.931685                                                                  \n",
      "[39]\tvalid_0's auc: 0.931838                                                                  \n",
      "[40]\tvalid_0's auc: 0.931911                                                                  \n",
      "[41]\tvalid_0's auc: 0.93189                                                                   \n",
      "[42]\tvalid_0's auc: 0.931789                                                                  \n",
      "[43]\tvalid_0's auc: 0.931809                                                                  \n",
      "[44]\tvalid_0's auc: 0.931905                                                                  \n",
      "[45]\tvalid_0's auc: 0.931706                                                                  \n",
      "[46]\tvalid_0's auc: 0.931622                                                                  \n",
      "[47]\tvalid_0's auc: 0.931825                                                                  \n",
      "[48]\tvalid_0's auc: 0.931961                                                                  \n",
      "[49]\tvalid_0's auc: 0.932134                                                                  \n",
      "[50]\tvalid_0's auc: 0.932187                                                                  \n",
      "[1]\tvalid_0's auc: 0.910849                                                                   \n",
      "[2]\tvalid_0's auc: 0.926665                                                                   \n",
      "[3]\tvalid_0's auc: 0.931195                                                                   \n",
      "[4]\tvalid_0's auc: 0.932393                                                                   \n",
      "[5]\tvalid_0's auc: 0.933943                                                                   \n",
      "[6]\tvalid_0's auc: 0.933644                                                                   \n",
      "[7]\tvalid_0's auc: 0.934051                                                                   \n",
      "[8]\tvalid_0's auc: 0.935026                                                                   \n",
      "[9]\tvalid_0's auc: 0.93878                                                                    \n"
     ]
    },
    {
     "name": "stdout",
     "output_type": "stream",
     "text": [
      "[10]\tvalid_0's auc: 0.938497                                                                  \n",
      "[11]\tvalid_0's auc: 0.938936                                                                  \n",
      "[12]\tvalid_0's auc: 0.939547                                                                  \n",
      "[13]\tvalid_0's auc: 0.940381                                                                  \n",
      "[14]\tvalid_0's auc: 0.941411                                                                  \n",
      "[15]\tvalid_0's auc: 0.941924                                                                  \n",
      "[16]\tvalid_0's auc: 0.942938                                                                  \n",
      "[17]\tvalid_0's auc: 0.943552                                                                  \n",
      "[18]\tvalid_0's auc: 0.9433                                                                    \n",
      "[19]\tvalid_0's auc: 0.943274                                                                  \n",
      "[20]\tvalid_0's auc: 0.944345                                                                  \n",
      "[21]\tvalid_0's auc: 0.944157                                                                  \n",
      "[22]\tvalid_0's auc: 0.944019                                                                  \n",
      "[23]\tvalid_0's auc: 0.943742                                                                  \n",
      "[24]\tvalid_0's auc: 0.943735                                                                  \n",
      "[25]\tvalid_0's auc: 0.943533                                                                  \n",
      "[26]\tvalid_0's auc: 0.943626                                                                  \n",
      "[27]\tvalid_0's auc: 0.943577                                                                  \n",
      "[28]\tvalid_0's auc: 0.943641                                                                  \n",
      "[29]\tvalid_0's auc: 0.943295                                                                  \n",
      "[30]\tvalid_0's auc: 0.943523                                                                  \n",
      "[31]\tvalid_0's auc: 0.943455                                                                  \n",
      "[32]\tvalid_0's auc: 0.943851                                                                  \n",
      "[33]\tvalid_0's auc: 0.944382                                                                  \n",
      "[34]\tvalid_0's auc: 0.944195                                                                  \n",
      "[35]\tvalid_0's auc: 0.944257                                                                  \n",
      "[36]\tvalid_0's auc: 0.944409                                                                  \n",
      "[37]\tvalid_0's auc: 0.944653                                                                  \n",
      "[38]\tvalid_0's auc: 0.944524                                                                  \n",
      "[39]\tvalid_0's auc: 0.944746                                                                  \n",
      "[40]\tvalid_0's auc: 0.944786                                                                  \n",
      "[41]\tvalid_0's auc: 0.944737                                                                  \n",
      "[42]\tvalid_0's auc: 0.944819                                                                  \n",
      "[43]\tvalid_0's auc: 0.944794                                                                  \n",
      "[44]\tvalid_0's auc: 0.944731                                                                  \n",
      "[45]\tvalid_0's auc: 0.945182                                                                  \n",
      "[46]\tvalid_0's auc: 0.94524                                                                   \n",
      "[47]\tvalid_0's auc: 0.945907                                                                  \n",
      "[48]\tvalid_0's auc: 0.945953                                                                  \n",
      "[49]\tvalid_0's auc: 0.946011                                                                  \n",
      "[50]\tvalid_0's auc: 0.945994                                                                  \n",
      "[1]\tvalid_0's auc: 0.90377                                                                    \n",
      "[2]\tvalid_0's auc: 0.920277                                                                   \n",
      "[3]\tvalid_0's auc: 0.926827                                                                   \n",
      "[4]\tvalid_0's auc: 0.928838                                                                   \n",
      "[5]\tvalid_0's auc: 0.932965                                                                   \n",
      "[6]\tvalid_0's auc: 0.93325                                                                    \n",
      "[7]\tvalid_0's auc: 0.932862                                                                   \n",
      "[8]\tvalid_0's auc: 0.933126                                                                   \n",
      "[9]\tvalid_0's auc: 0.933727                                                                   \n",
      "[10]\tvalid_0's auc: 0.933715                                                                  \n",
      "[11]\tvalid_0's auc: 0.935085                                                                  \n",
      "[12]\tvalid_0's auc: 0.935203                                                                  \n",
      "[13]\tvalid_0's auc: 0.938351                                                                  \n",
      "[14]\tvalid_0's auc: 0.938009                                                                  \n",
      "[15]\tvalid_0's auc: 0.937907                                                                  \n",
      "[16]\tvalid_0's auc: 0.938405                                                                  \n",
      "[17]\tvalid_0's auc: 0.938443                                                                  \n",
      "[18]\tvalid_0's auc: 0.939472                                                                  \n",
      "[19]\tvalid_0's auc: 0.939243                                                                  \n",
      "[20]\tvalid_0's auc: 0.939615                                                                  \n",
      "[21]\tvalid_0's auc: 0.939519                                                                  \n",
      "[22]\tvalid_0's auc: 0.939988                                                                  \n",
      "[23]\tvalid_0's auc: 0.941002                                                                  \n",
      "[24]\tvalid_0's auc: 0.941418                                                                  \n",
      "[25]\tvalid_0's auc: 0.941601                                                                  \n",
      "[26]\tvalid_0's auc: 0.942059                                                                  \n",
      "[27]\tvalid_0's auc: 0.942125                                                                  \n",
      "[28]\tvalid_0's auc: 0.942256                                                                  \n",
      "[29]\tvalid_0's auc: 0.942322                                                                  \n",
      "[30]\tvalid_0's auc: 0.942428                                                                  \n",
      "[31]\tvalid_0's auc: 0.942476                                                                  \n",
      "[32]\tvalid_0's auc: 0.94244                                                                   \n",
      "[33]\tvalid_0's auc: 0.942587                                                                  \n",
      "[34]\tvalid_0's auc: 0.942777                                                                  \n",
      "[35]\tvalid_0's auc: 0.942733                                                                  \n",
      "[36]\tvalid_0's auc: 0.942814                                                                  \n",
      "[37]\tvalid_0's auc: 0.94334                                                                   \n",
      "[38]\tvalid_0's auc: 0.94327                                                                   \n",
      "[39]\tvalid_0's auc: 0.943392                                                                  \n",
      "[40]\tvalid_0's auc: 0.943702                                                                  \n",
      "[41]\tvalid_0's auc: 0.943809                                                                  \n",
      "[42]\tvalid_0's auc: 0.943865                                                                  \n",
      "[43]\tvalid_0's auc: 0.943847                                                                  \n",
      "[44]\tvalid_0's auc: 0.944104                                                                  \n",
      "[45]\tvalid_0's auc: 0.944259                                                                  \n"
     ]
    },
    {
     "name": "stdout",
     "output_type": "stream",
     "text": [
      "[46]\tvalid_0's auc: 0.944265                                                                  \n",
      "[47]\tvalid_0's auc: 0.944194                                                                  \n",
      "[48]\tvalid_0's auc: 0.944332                                                                  \n",
      "[49]\tvalid_0's auc: 0.944321                                                                  \n",
      "[50]\tvalid_0's auc: 0.944423                                                                  \n",
      "[1]\tvalid_0's auc: 0.897067                                                                   \n",
      "[2]\tvalid_0's auc: 0.909763                                                                   \n",
      "[3]\tvalid_0's auc: 0.914631                                                                   \n",
      "[4]\tvalid_0's auc: 0.918637                                                                   \n",
      "[5]\tvalid_0's auc: 0.918692                                                                   \n",
      "[6]\tvalid_0's auc: 0.92026                                                                    \n",
      "[7]\tvalid_0's auc: 0.919771                                                                   \n",
      "[8]\tvalid_0's auc: 0.919979                                                                   \n",
      "[9]\tvalid_0's auc: 0.92192                                                                    \n",
      "[10]\tvalid_0's auc: 0.923006                                                                  \n",
      "[11]\tvalid_0's auc: 0.923423                                                                  \n",
      "[12]\tvalid_0's auc: 0.923673                                                                  \n",
      "[13]\tvalid_0's auc: 0.924213                                                                  \n",
      "[14]\tvalid_0's auc: 0.926456                                                                  \n",
      "[15]\tvalid_0's auc: 0.926078                                                                  \n",
      "[16]\tvalid_0's auc: 0.926625                                                                  \n",
      "[17]\tvalid_0's auc: 0.926493                                                                  \n",
      "[18]\tvalid_0's auc: 0.927144                                                                  \n",
      "[19]\tvalid_0's auc: 0.928878                                                                  \n",
      "[20]\tvalid_0's auc: 0.928971                                                                  \n",
      "[21]\tvalid_0's auc: 0.929072                                                                  \n",
      "[22]\tvalid_0's auc: 0.929274                                                                  \n",
      "[23]\tvalid_0's auc: 0.929337                                                                  \n",
      "[24]\tvalid_0's auc: 0.929855                                                                  \n",
      "[25]\tvalid_0's auc: 0.929859                                                                  \n",
      "[26]\tvalid_0's auc: 0.930076                                                                  \n",
      "[27]\tvalid_0's auc: 0.930321                                                                  \n",
      "[28]\tvalid_0's auc: 0.930478                                                                  \n",
      "[29]\tvalid_0's auc: 0.931049                                                                  \n",
      "[30]\tvalid_0's auc: 0.931766                                                                  \n",
      "[31]\tvalid_0's auc: 0.931747                                                                  \n",
      "[32]\tvalid_0's auc: 0.932328                                                                  \n",
      "[33]\tvalid_0's auc: 0.932683                                                                  \n",
      "[34]\tvalid_0's auc: 0.932872                                                                  \n",
      "[35]\tvalid_0's auc: 0.932965                                                                  \n",
      "[36]\tvalid_0's auc: 0.932941                                                                  \n",
      "[37]\tvalid_0's auc: 0.933102                                                                  \n",
      "[38]\tvalid_0's auc: 0.933355                                                                  \n",
      "[39]\tvalid_0's auc: 0.933385                                                                  \n",
      "[40]\tvalid_0's auc: 0.933717                                                                  \n",
      "[41]\tvalid_0's auc: 0.933588                                                                  \n",
      "[42]\tvalid_0's auc: 0.93388                                                                   \n",
      "[43]\tvalid_0's auc: 0.933974                                                                  \n",
      "[44]\tvalid_0's auc: 0.934047                                                                  \n",
      "[45]\tvalid_0's auc: 0.934299                                                                  \n",
      "[46]\tvalid_0's auc: 0.934249                                                                  \n",
      "[47]\tvalid_0's auc: 0.934537                                                                  \n",
      "[48]\tvalid_0's auc: 0.934707                                                                  \n",
      "[49]\tvalid_0's auc: 0.934738                                                                  \n",
      "[50]\tvalid_0's auc: 0.934775                                                                  \n",
      "[1]\tvalid_0's auc: 0.893916                                                                   \n",
      "[2]\tvalid_0's auc: 0.910069                                                                   \n",
      "[3]\tvalid_0's auc: 0.918613                                                                   \n",
      "[4]\tvalid_0's auc: 0.922445                                                                   \n",
      "[5]\tvalid_0's auc: 0.926703                                                                   \n",
      "[6]\tvalid_0's auc: 0.925968                                                                   \n",
      "[7]\tvalid_0's auc: 0.928213                                                                   \n",
      "[8]\tvalid_0's auc: 0.930808                                                                   \n",
      "[9]\tvalid_0's auc: 0.932622                                                                   \n",
      "[10]\tvalid_0's auc: 0.932954                                                                  \n",
      "[11]\tvalid_0's auc: 0.934007                                                                  \n",
      "[12]\tvalid_0's auc: 0.934355                                                                  \n",
      "[13]\tvalid_0's auc: 0.935453                                                                  \n",
      "[14]\tvalid_0's auc: 0.935073                                                                  \n",
      "[15]\tvalid_0's auc: 0.93526                                                                   \n",
      "[16]\tvalid_0's auc: 0.935998                                                                  \n",
      "[17]\tvalid_0's auc: 0.936327                                                                  \n",
      "[18]\tvalid_0's auc: 0.937084                                                                  \n",
      "[19]\tvalid_0's auc: 0.937521                                                                  \n",
      "[20]\tvalid_0's auc: 0.93804                                                                   \n",
      "[21]\tvalid_0's auc: 0.938034                                                                  \n",
      "[22]\tvalid_0's auc: 0.939508                                                                  \n",
      "[23]\tvalid_0's auc: 0.940167                                                                  \n",
      "[24]\tvalid_0's auc: 0.941526                                                                  \n",
      "[25]\tvalid_0's auc: 0.941354                                                                  \n",
      "[26]\tvalid_0's auc: 0.941126                                                                  \n",
      "[27]\tvalid_0's auc: 0.941727                                                                  \n",
      "[28]\tvalid_0's auc: 0.941662                                                                  \n",
      "[29]\tvalid_0's auc: 0.941549                                                                  \n",
      "[30]\tvalid_0's auc: 0.942053                                                                  \n",
      "[31]\tvalid_0's auc: 0.94232                                                                   \n"
     ]
    },
    {
     "name": "stdout",
     "output_type": "stream",
     "text": [
      "[32]\tvalid_0's auc: 0.942601                                                                  \n",
      "[33]\tvalid_0's auc: 0.943062                                                                  \n",
      "[34]\tvalid_0's auc: 0.943188                                                                  \n",
      "[35]\tvalid_0's auc: 0.943073                                                                  \n",
      "[36]\tvalid_0's auc: 0.943197                                                                  \n",
      "[37]\tvalid_0's auc: 0.943299                                                                  \n",
      "[38]\tvalid_0's auc: 0.943509                                                                  \n",
      "[39]\tvalid_0's auc: 0.944245                                                                  \n",
      "[40]\tvalid_0's auc: 0.944142                                                                  \n",
      "[41]\tvalid_0's auc: 0.944206                                                                  \n",
      "[42]\tvalid_0's auc: 0.944064                                                                  \n",
      "[43]\tvalid_0's auc: 0.944081                                                                  \n",
      "[44]\tvalid_0's auc: 0.944467                                                                  \n",
      "[45]\tvalid_0's auc: 0.944798                                                                  \n",
      "[46]\tvalid_0's auc: 0.944873                                                                  \n",
      "[47]\tvalid_0's auc: 0.944925                                                                  \n",
      "[48]\tvalid_0's auc: 0.944943                                                                  \n",
      "[49]\tvalid_0's auc: 0.944927                                                                  \n",
      "[50]\tvalid_0's auc: 0.944818                                                                  \n",
      "[1]\tvalid_0's auc: 0.903082                                                                   \n",
      "[2]\tvalid_0's auc: 0.915387                                                                   \n",
      "[3]\tvalid_0's auc: 0.928221                                                                   \n",
      "[4]\tvalid_0's auc: 0.930782                                                                   \n",
      "[5]\tvalid_0's auc: 0.931673                                                                   \n",
      "[6]\tvalid_0's auc: 0.93354                                                                    \n",
      "[7]\tvalid_0's auc: 0.935019                                                                   \n",
      "[8]\tvalid_0's auc: 0.935005                                                                   \n",
      "[9]\tvalid_0's auc: 0.937548                                                                   \n",
      "[10]\tvalid_0's auc: 0.940743                                                                  \n",
      "[11]\tvalid_0's auc: 0.940893                                                                  \n",
      "[12]\tvalid_0's auc: 0.941771                                                                  \n",
      "[13]\tvalid_0's auc: 0.941434                                                                  \n",
      "[14]\tvalid_0's auc: 0.941323                                                                  \n",
      "[15]\tvalid_0's auc: 0.941765                                                                  \n",
      "[16]\tvalid_0's auc: 0.942914                                                                  \n",
      "[17]\tvalid_0's auc: 0.943409                                                                  \n",
      "[18]\tvalid_0's auc: 0.943596                                                                  \n",
      "[19]\tvalid_0's auc: 0.943792                                                                  \n",
      "[20]\tvalid_0's auc: 0.943997                                                                  \n",
      "[21]\tvalid_0's auc: 0.944402                                                                  \n",
      "[22]\tvalid_0's auc: 0.944618                                                                  \n",
      "[23]\tvalid_0's auc: 0.944997                                                                  \n",
      "[24]\tvalid_0's auc: 0.945107                                                                  \n",
      "[25]\tvalid_0's auc: 0.944747                                                                  \n",
      "[26]\tvalid_0's auc: 0.944744                                                                  \n",
      "[27]\tvalid_0's auc: 0.944569                                                                  \n",
      "[28]\tvalid_0's auc: 0.944606                                                                  \n",
      "[29]\tvalid_0's auc: 0.944894                                                                  \n",
      "[30]\tvalid_0's auc: 0.944657                                                                  \n",
      "[31]\tvalid_0's auc: 0.944925                                                                  \n",
      "[32]\tvalid_0's auc: 0.94487                                                                   \n",
      "[33]\tvalid_0's auc: 0.944741                                                                  \n",
      "[34]\tvalid_0's auc: 0.94496                                                                   \n",
      "[35]\tvalid_0's auc: 0.944962                                                                  \n",
      "[36]\tvalid_0's auc: 0.945102                                                                  \n",
      "[37]\tvalid_0's auc: 0.945599                                                                  \n",
      "[38]\tvalid_0's auc: 0.945725                                                                  \n",
      "[39]\tvalid_0's auc: 0.945621                                                                  \n",
      "[40]\tvalid_0's auc: 0.94583                                                                   \n",
      "[41]\tvalid_0's auc: 0.945865                                                                  \n",
      "[42]\tvalid_0's auc: 0.946118                                                                  \n",
      "[43]\tvalid_0's auc: 0.946041                                                                  \n",
      "[44]\tvalid_0's auc: 0.946128                                                                  \n",
      "[45]\tvalid_0's auc: 0.946164                                                                  \n",
      "[46]\tvalid_0's auc: 0.946164                                                                  \n",
      "[47]\tvalid_0's auc: 0.946515                                                                  \n",
      "[48]\tvalid_0's auc: 0.946548                                                                  \n",
      "[49]\tvalid_0's auc: 0.946459                                                                  \n",
      "[50]\tvalid_0's auc: 0.946468                                                                  \n",
      "[1]\tvalid_0's auc: 0.895868                                                                   \n",
      "[2]\tvalid_0's auc: 0.919503                                                                   \n",
      "[3]\tvalid_0's auc: 0.926613                                                                   \n",
      "[4]\tvalid_0's auc: 0.930671                                                                   \n",
      "[5]\tvalid_0's auc: 0.932375                                                                   \n",
      "[6]\tvalid_0's auc: 0.933953                                                                   \n",
      "[7]\tvalid_0's auc: 0.935482                                                                   \n",
      "[8]\tvalid_0's auc: 0.936108                                                                   \n",
      "[9]\tvalid_0's auc: 0.937036                                                                   \n",
      "[10]\tvalid_0's auc: 0.936779                                                                  \n",
      "[11]\tvalid_0's auc: 0.938482                                                                  \n",
      "[12]\tvalid_0's auc: 0.938561                                                                  \n",
      "[13]\tvalid_0's auc: 0.937687                                                                  \n",
      "[14]\tvalid_0's auc: 0.937279                                                                  \n",
      "[15]\tvalid_0's auc: 0.938945                                                                  \n",
      "[16]\tvalid_0's auc: 0.93949                                                                   \n",
      "[17]\tvalid_0's auc: 0.939369                                                                  \n"
     ]
    },
    {
     "name": "stdout",
     "output_type": "stream",
     "text": [
      "[18]\tvalid_0's auc: 0.940064                                                                  \n",
      "[19]\tvalid_0's auc: 0.9399                                                                    \n",
      "[20]\tvalid_0's auc: 0.940411                                                                  \n",
      "[21]\tvalid_0's auc: 0.940261                                                                  \n",
      "[22]\tvalid_0's auc: 0.94038                                                                   \n",
      "[23]\tvalid_0's auc: 0.940862                                                                  \n",
      "[24]\tvalid_0's auc: 0.941384                                                                  \n",
      "[25]\tvalid_0's auc: 0.942208                                                                  \n",
      "[26]\tvalid_0's auc: 0.942071                                                                  \n",
      "[27]\tvalid_0's auc: 0.94176                                                                   \n",
      "[28]\tvalid_0's auc: 0.941473                                                                  \n",
      "[29]\tvalid_0's auc: 0.941481                                                                  \n",
      "[30]\tvalid_0's auc: 0.941475                                                                  \n",
      "[31]\tvalid_0's auc: 0.94134                                                                   \n",
      "[32]\tvalid_0's auc: 0.941687                                                                  \n",
      "[33]\tvalid_0's auc: 0.941524                                                                  \n",
      "[34]\tvalid_0's auc: 0.941975                                                                  \n",
      "[35]\tvalid_0's auc: 0.942124                                                                  \n",
      "[36]\tvalid_0's auc: 0.942264                                                                  \n",
      "[37]\tvalid_0's auc: 0.942372                                                                  \n",
      "[38]\tvalid_0's auc: 0.942711                                                                  \n",
      "[39]\tvalid_0's auc: 0.942937                                                                  \n",
      "[40]\tvalid_0's auc: 0.942844                                                                  \n",
      "[41]\tvalid_0's auc: 0.942853                                                                  \n",
      "[42]\tvalid_0's auc: 0.942933                                                                  \n",
      "[43]\tvalid_0's auc: 0.942924                                                                  \n",
      "[44]\tvalid_0's auc: 0.943301                                                                  \n",
      "[45]\tvalid_0's auc: 0.943564                                                                  \n",
      "[46]\tvalid_0's auc: 0.943677                                                                  \n",
      "[47]\tvalid_0's auc: 0.943539                                                                  \n",
      "[48]\tvalid_0's auc: 0.943435                                                                  \n",
      "[49]\tvalid_0's auc: 0.943491                                                                  \n",
      "[50]\tvalid_0's auc: 0.94347                                                                   \n",
      "[1]\tvalid_0's auc: 0.905263                                                                   \n",
      "[2]\tvalid_0's auc: 0.913308                                                                   \n",
      "[3]\tvalid_0's auc: 0.92131                                                                    \n",
      "[4]\tvalid_0's auc: 0.925923                                                                   \n",
      "[5]\tvalid_0's auc: 0.928088                                                                   \n",
      "[6]\tvalid_0's auc: 0.93106                                                                    \n",
      "[7]\tvalid_0's auc: 0.931009                                                                   \n",
      "[8]\tvalid_0's auc: 0.930965                                                                   \n",
      "[9]\tvalid_0's auc: 0.931267                                                                   \n",
      "[10]\tvalid_0's auc: 0.934514                                                                  \n",
      "[11]\tvalid_0's auc: 0.934094                                                                  \n",
      "[12]\tvalid_0's auc: 0.935363                                                                  \n",
      "[13]\tvalid_0's auc: 0.936758                                                                  \n",
      "[14]\tvalid_0's auc: 0.939262                                                                  \n",
      "[15]\tvalid_0's auc: 0.939527                                                                  \n",
      "[16]\tvalid_0's auc: 0.939915                                                                  \n",
      "[17]\tvalid_0's auc: 0.940915                                                                  \n",
      "[18]\tvalid_0's auc: 0.941203                                                                  \n",
      "[19]\tvalid_0's auc: 0.941661                                                                  \n",
      "[20]\tvalid_0's auc: 0.941206                                                                  \n",
      "[21]\tvalid_0's auc: 0.941692                                                                  \n",
      "[22]\tvalid_0's auc: 0.943273                                                                  \n",
      "[23]\tvalid_0's auc: 0.944465                                                                  \n",
      "[24]\tvalid_0's auc: 0.944876                                                                  \n",
      "[25]\tvalid_0's auc: 0.944755                                                                  \n",
      "[26]\tvalid_0's auc: 0.945373                                                                  \n",
      "[27]\tvalid_0's auc: 0.946305                                                                  \n",
      "[28]\tvalid_0's auc: 0.946444                                                                  \n",
      "[29]\tvalid_0's auc: 0.947062                                                                  \n",
      "[30]\tvalid_0's auc: 0.946742                                                                  \n",
      "[31]\tvalid_0's auc: 0.946693                                                                  \n",
      "[32]\tvalid_0's auc: 0.946801                                                                  \n",
      "[33]\tvalid_0's auc: 0.946786                                                                  \n",
      "[34]\tvalid_0's auc: 0.947133                                                                  \n",
      "[35]\tvalid_0's auc: 0.946917                                                                  \n",
      "[36]\tvalid_0's auc: 0.946577                                                                  \n",
      "[37]\tvalid_0's auc: 0.945815                                                                  \n",
      "[38]\tvalid_0's auc: 0.945891                                                                  \n",
      "[39]\tvalid_0's auc: 0.945397                                                                  \n",
      "[40]\tvalid_0's auc: 0.945586                                                                  \n",
      "[41]\tvalid_0's auc: 0.945587                                                                  \n",
      "[42]\tvalid_0's auc: 0.945028                                                                  \n",
      "[43]\tvalid_0's auc: 0.945028                                                                  \n",
      "[44]\tvalid_0's auc: 0.945364                                                                  \n",
      "[45]\tvalid_0's auc: 0.945238                                                                  \n",
      "[46]\tvalid_0's auc: 0.945184                                                                  \n",
      "[47]\tvalid_0's auc: 0.945672                                                                  \n",
      "[48]\tvalid_0's auc: 0.945733                                                                  \n",
      "[49]\tvalid_0's auc: 0.9458                                                                    \n",
      "[50]\tvalid_0's auc: 0.945953                                                                  \n",
      "[1]\tvalid_0's auc: 0.909794                                                                   \n",
      "[2]\tvalid_0's auc: 0.920443                                                                   \n",
      "[3]\tvalid_0's auc: 0.922834                                                                   \n"
     ]
    },
    {
     "name": "stdout",
     "output_type": "stream",
     "text": [
      "[4]\tvalid_0's auc: 0.926743                                                                   \n",
      "[5]\tvalid_0's auc: 0.930577                                                                   \n",
      "[6]\tvalid_0's auc: 0.932661                                                                   \n",
      "[7]\tvalid_0's auc: 0.934049                                                                   \n",
      "[8]\tvalid_0's auc: 0.934506                                                                   \n",
      "[9]\tvalid_0's auc: 0.935709                                                                   \n",
      "[10]\tvalid_0's auc: 0.937142                                                                  \n",
      "[11]\tvalid_0's auc: 0.939903                                                                  \n",
      "[12]\tvalid_0's auc: 0.939956                                                                  \n",
      "[13]\tvalid_0's auc: 0.939353                                                                  \n",
      "[14]\tvalid_0's auc: 0.939246                                                                  \n",
      "[15]\tvalid_0's auc: 0.938707                                                                  \n",
      "[16]\tvalid_0's auc: 0.938716                                                                  \n",
      "[17]\tvalid_0's auc: 0.940793                                                                  \n",
      "[18]\tvalid_0's auc: 0.940401                                                                  \n",
      "[19]\tvalid_0's auc: 0.940263                                                                  \n",
      "[20]\tvalid_0's auc: 0.940071                                                                  \n",
      "[21]\tvalid_0's auc: 0.939867                                                                  \n",
      "[22]\tvalid_0's auc: 0.940689                                                                  \n",
      "[23]\tvalid_0's auc: 0.941758                                                                  \n",
      "[24]\tvalid_0's auc: 0.940823                                                                  \n",
      "[25]\tvalid_0's auc: 0.940399                                                                  \n",
      "[26]\tvalid_0's auc: 0.941118                                                                  \n",
      "[27]\tvalid_0's auc: 0.941251                                                                  \n",
      "[28]\tvalid_0's auc: 0.941666                                                                  \n",
      "[29]\tvalid_0's auc: 0.942028                                                                  \n",
      "[30]\tvalid_0's auc: 0.940914                                                                  \n",
      "[31]\tvalid_0's auc: 0.941236                                                                  \n",
      "[32]\tvalid_0's auc: 0.941729                                                                  \n",
      "[33]\tvalid_0's auc: 0.942111                                                                  \n",
      "[34]\tvalid_0's auc: 0.942026                                                                  \n",
      "[35]\tvalid_0's auc: 0.942188                                                                  \n",
      "[36]\tvalid_0's auc: 0.942439                                                                  \n",
      "[37]\tvalid_0's auc: 0.943255                                                                  \n",
      "[38]\tvalid_0's auc: 0.943637                                                                  \n",
      "[39]\tvalid_0's auc: 0.944399                                                                  \n",
      "[40]\tvalid_0's auc: 0.944492                                                                  \n",
      "[41]\tvalid_0's auc: 0.944744                                                                  \n",
      "[42]\tvalid_0's auc: 0.943384                                                                  \n",
      "[43]\tvalid_0's auc: 0.943054                                                                  \n",
      "[44]\tvalid_0's auc: 0.94294                                                                   \n",
      "[45]\tvalid_0's auc: 0.944293                                                                  \n",
      "[46]\tvalid_0's auc: 0.944266                                                                  \n",
      "[47]\tvalid_0's auc: 0.944717                                                                  \n",
      "[48]\tvalid_0's auc: 0.945406                                                                  \n",
      "[49]\tvalid_0's auc: 0.945489                                                                  \n",
      "[50]\tvalid_0's auc: 0.945739                                                                  \n",
      "[1]\tvalid_0's auc: 0.912424                                                                   \n",
      "[2]\tvalid_0's auc: 0.926154                                                                   \n",
      "[3]\tvalid_0's auc: 0.930915                                                                   \n",
      "[4]\tvalid_0's auc: 0.93496                                                                    \n",
      "[5]\tvalid_0's auc: 0.937612                                                                   \n",
      "[6]\tvalid_0's auc: 0.93873                                                                    \n",
      "[7]\tvalid_0's auc: 0.939356                                                                   \n",
      "[8]\tvalid_0's auc: 0.939449                                                                   \n",
      "[9]\tvalid_0's auc: 0.941059                                                                   \n",
      "[10]\tvalid_0's auc: 0.942672                                                                  \n",
      "[11]\tvalid_0's auc: 0.942941                                                                  \n",
      "[12]\tvalid_0's auc: 0.943349                                                                  \n",
      "[13]\tvalid_0's auc: 0.9442                                                                    \n",
      "[14]\tvalid_0's auc: 0.942799                                                                  \n",
      "[15]\tvalid_0's auc: 0.942767                                                                  \n",
      "[16]\tvalid_0's auc: 0.942689                                                                  \n",
      "[17]\tvalid_0's auc: 0.944714                                                                  \n",
      "[18]\tvalid_0's auc: 0.944605                                                                  \n",
      "[19]\tvalid_0's auc: 0.94355                                                                   \n",
      "[20]\tvalid_0's auc: 0.943062                                                                  \n",
      "[21]\tvalid_0's auc: 0.942888                                                                  \n",
      "[22]\tvalid_0's auc: 0.943119                                                                  \n",
      "[23]\tvalid_0's auc: 0.943904                                                                  \n",
      "[24]\tvalid_0's auc: 0.944539                                                                  \n",
      "[25]\tvalid_0's auc: 0.944472                                                                  \n",
      "[26]\tvalid_0's auc: 0.944741                                                                  \n",
      "[27]\tvalid_0's auc: 0.945035                                                                  \n",
      "[28]\tvalid_0's auc: 0.945172                                                                  \n",
      "[29]\tvalid_0's auc: 0.944942                                                                  \n",
      "[30]\tvalid_0's auc: 0.945393                                                                  \n",
      "[31]\tvalid_0's auc: 0.945382                                                                  \n",
      "[32]\tvalid_0's auc: 0.945106                                                                  \n",
      "[33]\tvalid_0's auc: 0.945518                                                                  \n",
      "[34]\tvalid_0's auc: 0.946523                                                                  \n",
      "[35]\tvalid_0's auc: 0.946574                                                                  \n",
      "[36]\tvalid_0's auc: 0.946606                                                                  \n",
      "[37]\tvalid_0's auc: 0.946861                                                                  \n",
      "[38]\tvalid_0's auc: 0.94651                                                                   \n",
      "[39]\tvalid_0's auc: 0.945914                                                                  \n"
     ]
    },
    {
     "name": "stdout",
     "output_type": "stream",
     "text": [
      "[40]\tvalid_0's auc: 0.945717                                                                  \n",
      "[41]\tvalid_0's auc: 0.946002                                                                  \n",
      "[42]\tvalid_0's auc: 0.946017                                                                  \n",
      "[43]\tvalid_0's auc: 0.945935                                                                  \n",
      "[44]\tvalid_0's auc: 0.945181                                                                  \n",
      "[45]\tvalid_0's auc: 0.944463                                                                  \n",
      "[46]\tvalid_0's auc: 0.944123                                                                  \n",
      "[47]\tvalid_0's auc: 0.944265                                                                  \n",
      "[48]\tvalid_0's auc: 0.944391                                                                  \n",
      "[49]\tvalid_0's auc: 0.944323                                                                  \n",
      "[50]\tvalid_0's auc: 0.944549                                                                  \n",
      "[1]\tvalid_0's auc: 0.90629                                                                    \n",
      "[2]\tvalid_0's auc: 0.914486                                                                   \n",
      "[3]\tvalid_0's auc: 0.917218                                                                   \n",
      "[4]\tvalid_0's auc: 0.916334                                                                   \n",
      "[5]\tvalid_0's auc: 0.918232                                                                   \n",
      "[6]\tvalid_0's auc: 0.921479                                                                   \n",
      "[7]\tvalid_0's auc: 0.922119                                                                   \n",
      "[8]\tvalid_0's auc: 0.921459                                                                   \n",
      "[9]\tvalid_0's auc: 0.921531                                                                   \n",
      "[10]\tvalid_0's auc: 0.922831                                                                  \n",
      "[11]\tvalid_0's auc: 0.923618                                                                  \n",
      "[12]\tvalid_0's auc: 0.923584                                                                  \n",
      "[13]\tvalid_0's auc: 0.926611                                                                  \n",
      "[14]\tvalid_0's auc: 0.92919                                                                   \n",
      "[15]\tvalid_0's auc: 0.929851                                                                  \n",
      "[16]\tvalid_0's auc: 0.932096                                                                  \n",
      "[17]\tvalid_0's auc: 0.934039                                                                  \n",
      "[18]\tvalid_0's auc: 0.934177                                                                  \n",
      "[19]\tvalid_0's auc: 0.933998                                                                  \n",
      "[20]\tvalid_0's auc: 0.934342                                                                  \n",
      "[21]\tvalid_0's auc: 0.934594                                                                  \n",
      "[22]\tvalid_0's auc: 0.934636                                                                  \n",
      "[23]\tvalid_0's auc: 0.935231                                                                  \n",
      "[24]\tvalid_0's auc: 0.93536                                                                   \n",
      "[25]\tvalid_0's auc: 0.936634                                                                  \n",
      "[26]\tvalid_0's auc: 0.936544                                                                  \n",
      "[27]\tvalid_0's auc: 0.936722                                                                  \n",
      "[28]\tvalid_0's auc: 0.93649                                                                   \n",
      "[29]\tvalid_0's auc: 0.936614                                                                  \n",
      "[30]\tvalid_0's auc: 0.936873                                                                  \n",
      "[31]\tvalid_0's auc: 0.936512                                                                  \n",
      "[32]\tvalid_0's auc: 0.936321                                                                  \n",
      "[33]\tvalid_0's auc: 0.937261                                                                  \n",
      "[34]\tvalid_0's auc: 0.938109                                                                  \n",
      "[35]\tvalid_0's auc: 0.937861                                                                  \n",
      "[36]\tvalid_0's auc: 0.937648                                                                  \n",
      "[37]\tvalid_0's auc: 0.938167                                                                  \n",
      "[38]\tvalid_0's auc: 0.937985                                                                  \n",
      "[39]\tvalid_0's auc: 0.938401                                                                  \n",
      "[40]\tvalid_0's auc: 0.938848                                                                  \n",
      "[41]\tvalid_0's auc: 0.938934                                                                  \n",
      "[42]\tvalid_0's auc: 0.939479                                                                  \n",
      "[43]\tvalid_0's auc: 0.939383                                                                  \n",
      "[44]\tvalid_0's auc: 0.940051                                                                  \n",
      "[45]\tvalid_0's auc: 0.940193                                                                  \n",
      "[46]\tvalid_0's auc: 0.940215                                                                  \n",
      "[47]\tvalid_0's auc: 0.939958                                                                  \n",
      "[48]\tvalid_0's auc: 0.939847                                                                  \n",
      "[49]\tvalid_0's auc: 0.939808                                                                  \n",
      "[50]\tvalid_0's auc: 0.939969                                                                  \n",
      "[1]\tvalid_0's auc: 0.892166                                                                   \n",
      "[2]\tvalid_0's auc: 0.907058                                                                   \n",
      "[3]\tvalid_0's auc: 0.923124                                                                   \n",
      "[4]\tvalid_0's auc: 0.924319                                                                   \n",
      "[5]\tvalid_0's auc: 0.928743                                                                   \n",
      "[6]\tvalid_0's auc: 0.929979                                                                   \n",
      "[7]\tvalid_0's auc: 0.930727                                                                   \n",
      "  3%|▋                    | 15/500 [26:06<14:04:03, 104.42s/it, best loss: -2.927484634135214]\n"
     ]
    },
    {
     "ename": "KeyboardInterrupt",
     "evalue": "",
     "output_type": "error",
     "traceback": [
      "\u001b[1;31m---------------------------------------------------------------------------\u001b[0m",
      "\u001b[1;31mKeyboardInterrupt\u001b[0m                         Traceback (most recent call last)",
      "\u001b[1;32m<ipython-input-72-d394b9085b2e>\u001b[0m in \u001b[0;36m<module>\u001b[1;34m\u001b[0m\n\u001b[0;32m      6\u001b[0m \u001b[1;31m# Optimize\u001b[0m\u001b[1;33m\u001b[0m\u001b[1;33m\u001b[0m\u001b[1;33m\u001b[0m\u001b[0m\n\u001b[0;32m      7\u001b[0m bestDict = fmin(fn = objective, space = space, algo = tpe.suggest, \n\u001b[1;32m----> 8\u001b[1;33m             max_evals = MAX_EVALS, trials = bayes_trials)\n\u001b[0m\u001b[0;32m      9\u001b[0m \u001b[0mbestDict\u001b[0m\u001b[1;33m\u001b[0m\u001b[1;33m\u001b[0m\u001b[0m\n",
      "\u001b[1;32mC:\\ProgramData\\Anaconda3\\lib\\site-packages\\hyperopt\\fmin.py\u001b[0m in \u001b[0;36mfmin\u001b[1;34m(fn, space, algo, max_evals, trials, rstate, allow_trials_fmin, pass_expr_memo_ctrl, catch_eval_exceptions, verbose, return_argmin, points_to_evaluate, max_queue_len, show_progressbar)\u001b[0m\n\u001b[0;32m    401\u001b[0m             \u001b[0mcatch_eval_exceptions\u001b[0m\u001b[1;33m=\u001b[0m\u001b[0mcatch_eval_exceptions\u001b[0m\u001b[1;33m,\u001b[0m\u001b[1;33m\u001b[0m\u001b[1;33m\u001b[0m\u001b[0m\n\u001b[0;32m    402\u001b[0m             \u001b[0mreturn_argmin\u001b[0m\u001b[1;33m=\u001b[0m\u001b[0mreturn_argmin\u001b[0m\u001b[1;33m,\u001b[0m\u001b[1;33m\u001b[0m\u001b[1;33m\u001b[0m\u001b[0m\n\u001b[1;32m--> 403\u001b[1;33m             \u001b[0mshow_progressbar\u001b[0m\u001b[1;33m=\u001b[0m\u001b[0mshow_progressbar\u001b[0m\u001b[1;33m,\u001b[0m\u001b[1;33m\u001b[0m\u001b[1;33m\u001b[0m\u001b[0m\n\u001b[0m\u001b[0;32m    404\u001b[0m         )\n\u001b[0;32m    405\u001b[0m \u001b[1;33m\u001b[0m\u001b[0m\n",
      "\u001b[1;32mC:\\ProgramData\\Anaconda3\\lib\\site-packages\\hyperopt\\base.py\u001b[0m in \u001b[0;36mfmin\u001b[1;34m(self, fn, space, algo, max_evals, max_queue_len, rstate, verbose, pass_expr_memo_ctrl, catch_eval_exceptions, return_argmin, show_progressbar)\u001b[0m\n\u001b[0;32m    649\u001b[0m             \u001b[0mcatch_eval_exceptions\u001b[0m\u001b[1;33m=\u001b[0m\u001b[0mcatch_eval_exceptions\u001b[0m\u001b[1;33m,\u001b[0m\u001b[1;33m\u001b[0m\u001b[1;33m\u001b[0m\u001b[0m\n\u001b[0;32m    650\u001b[0m             \u001b[0mreturn_argmin\u001b[0m\u001b[1;33m=\u001b[0m\u001b[0mreturn_argmin\u001b[0m\u001b[1;33m,\u001b[0m\u001b[1;33m\u001b[0m\u001b[1;33m\u001b[0m\u001b[0m\n\u001b[1;32m--> 651\u001b[1;33m             show_progressbar=show_progressbar)\n\u001b[0m\u001b[0;32m    652\u001b[0m \u001b[1;33m\u001b[0m\u001b[0m\n\u001b[0;32m    653\u001b[0m \u001b[1;33m\u001b[0m\u001b[0m\n",
      "\u001b[1;32mC:\\ProgramData\\Anaconda3\\lib\\site-packages\\hyperopt\\fmin.py\u001b[0m in \u001b[0;36mfmin\u001b[1;34m(fn, space, algo, max_evals, trials, rstate, allow_trials_fmin, pass_expr_memo_ctrl, catch_eval_exceptions, verbose, return_argmin, points_to_evaluate, max_queue_len, show_progressbar)\u001b[0m\n\u001b[0;32m    420\u001b[0m                     show_progressbar=show_progressbar)\n\u001b[0;32m    421\u001b[0m     \u001b[0mrval\u001b[0m\u001b[1;33m.\u001b[0m\u001b[0mcatch_eval_exceptions\u001b[0m \u001b[1;33m=\u001b[0m \u001b[0mcatch_eval_exceptions\u001b[0m\u001b[1;33m\u001b[0m\u001b[1;33m\u001b[0m\u001b[0m\n\u001b[1;32m--> 422\u001b[1;33m     \u001b[0mrval\u001b[0m\u001b[1;33m.\u001b[0m\u001b[0mexhaust\u001b[0m\u001b[1;33m(\u001b[0m\u001b[1;33m)\u001b[0m\u001b[1;33m\u001b[0m\u001b[1;33m\u001b[0m\u001b[0m\n\u001b[0m\u001b[0;32m    423\u001b[0m     \u001b[1;32mif\u001b[0m \u001b[0mreturn_argmin\u001b[0m\u001b[1;33m:\u001b[0m\u001b[1;33m\u001b[0m\u001b[1;33m\u001b[0m\u001b[0m\n\u001b[0;32m    424\u001b[0m         \u001b[1;32mif\u001b[0m \u001b[0mlen\u001b[0m\u001b[1;33m(\u001b[0m\u001b[0mtrials\u001b[0m\u001b[1;33m.\u001b[0m\u001b[0mtrials\u001b[0m\u001b[1;33m)\u001b[0m \u001b[1;33m==\u001b[0m \u001b[1;36m0\u001b[0m\u001b[1;33m:\u001b[0m\u001b[1;33m\u001b[0m\u001b[1;33m\u001b[0m\u001b[0m\n",
      "\u001b[1;32mC:\\ProgramData\\Anaconda3\\lib\\site-packages\\hyperopt\\fmin.py\u001b[0m in \u001b[0;36mexhaust\u001b[1;34m(self)\u001b[0m\n\u001b[0;32m    274\u001b[0m     \u001b[1;32mdef\u001b[0m \u001b[0mexhaust\u001b[0m\u001b[1;33m(\u001b[0m\u001b[0mself\u001b[0m\u001b[1;33m)\u001b[0m\u001b[1;33m:\u001b[0m\u001b[1;33m\u001b[0m\u001b[1;33m\u001b[0m\u001b[0m\n\u001b[0;32m    275\u001b[0m         \u001b[0mn_done\u001b[0m \u001b[1;33m=\u001b[0m \u001b[0mlen\u001b[0m\u001b[1;33m(\u001b[0m\u001b[0mself\u001b[0m\u001b[1;33m.\u001b[0m\u001b[0mtrials\u001b[0m\u001b[1;33m)\u001b[0m\u001b[1;33m\u001b[0m\u001b[1;33m\u001b[0m\u001b[0m\n\u001b[1;32m--> 276\u001b[1;33m         \u001b[0mself\u001b[0m\u001b[1;33m.\u001b[0m\u001b[0mrun\u001b[0m\u001b[1;33m(\u001b[0m\u001b[0mself\u001b[0m\u001b[1;33m.\u001b[0m\u001b[0mmax_evals\u001b[0m \u001b[1;33m-\u001b[0m \u001b[0mn_done\u001b[0m\u001b[1;33m,\u001b[0m \u001b[0mblock_until_done\u001b[0m\u001b[1;33m=\u001b[0m\u001b[0mself\u001b[0m\u001b[1;33m.\u001b[0m\u001b[0masynchronous\u001b[0m\u001b[1;33m)\u001b[0m\u001b[1;33m\u001b[0m\u001b[1;33m\u001b[0m\u001b[0m\n\u001b[0m\u001b[0;32m    277\u001b[0m         \u001b[0mself\u001b[0m\u001b[1;33m.\u001b[0m\u001b[0mtrials\u001b[0m\u001b[1;33m.\u001b[0m\u001b[0mrefresh\u001b[0m\u001b[1;33m(\u001b[0m\u001b[1;33m)\u001b[0m\u001b[1;33m\u001b[0m\u001b[1;33m\u001b[0m\u001b[0m\n\u001b[0;32m    278\u001b[0m         \u001b[1;32mreturn\u001b[0m \u001b[0mself\u001b[0m\u001b[1;33m\u001b[0m\u001b[1;33m\u001b[0m\u001b[0m\n",
      "\u001b[1;32mC:\\ProgramData\\Anaconda3\\lib\\site-packages\\hyperopt\\fmin.py\u001b[0m in \u001b[0;36mrun\u001b[1;34m(self, N, block_until_done)\u001b[0m\n\u001b[0;32m    239\u001b[0m                     \u001b[1;32melse\u001b[0m\u001b[1;33m:\u001b[0m\u001b[1;33m\u001b[0m\u001b[1;33m\u001b[0m\u001b[0m\n\u001b[0;32m    240\u001b[0m                         \u001b[1;31m# -- loop over trials and do the jobs directly\u001b[0m\u001b[1;33m\u001b[0m\u001b[1;33m\u001b[0m\u001b[1;33m\u001b[0m\u001b[0m\n\u001b[1;32m--> 241\u001b[1;33m                         \u001b[0mself\u001b[0m\u001b[1;33m.\u001b[0m\u001b[0mserial_evaluate\u001b[0m\u001b[1;33m(\u001b[0m\u001b[1;33m)\u001b[0m\u001b[1;33m\u001b[0m\u001b[1;33m\u001b[0m\u001b[0m\n\u001b[0m\u001b[0;32m    242\u001b[0m \u001b[1;33m\u001b[0m\u001b[0m\n\u001b[0;32m    243\u001b[0m                     \u001b[1;32mtry\u001b[0m\u001b[1;33m:\u001b[0m\u001b[1;33m\u001b[0m\u001b[1;33m\u001b[0m\u001b[0m\n",
      "\u001b[1;32mC:\\ProgramData\\Anaconda3\\lib\\site-packages\\hyperopt\\fmin.py\u001b[0m in \u001b[0;36mserial_evaluate\u001b[1;34m(self, N)\u001b[0m\n\u001b[0;32m    139\u001b[0m                 \u001b[0mctrl\u001b[0m \u001b[1;33m=\u001b[0m \u001b[0mbase\u001b[0m\u001b[1;33m.\u001b[0m\u001b[0mCtrl\u001b[0m\u001b[1;33m(\u001b[0m\u001b[0mself\u001b[0m\u001b[1;33m.\u001b[0m\u001b[0mtrials\u001b[0m\u001b[1;33m,\u001b[0m \u001b[0mcurrent_trial\u001b[0m\u001b[1;33m=\u001b[0m\u001b[0mtrial\u001b[0m\u001b[1;33m)\u001b[0m\u001b[1;33m\u001b[0m\u001b[1;33m\u001b[0m\u001b[0m\n\u001b[0;32m    140\u001b[0m                 \u001b[1;32mtry\u001b[0m\u001b[1;33m:\u001b[0m\u001b[1;33m\u001b[0m\u001b[1;33m\u001b[0m\u001b[0m\n\u001b[1;32m--> 141\u001b[1;33m                     \u001b[0mresult\u001b[0m \u001b[1;33m=\u001b[0m \u001b[0mself\u001b[0m\u001b[1;33m.\u001b[0m\u001b[0mdomain\u001b[0m\u001b[1;33m.\u001b[0m\u001b[0mevaluate\u001b[0m\u001b[1;33m(\u001b[0m\u001b[0mspec\u001b[0m\u001b[1;33m,\u001b[0m \u001b[0mctrl\u001b[0m\u001b[1;33m)\u001b[0m\u001b[1;33m\u001b[0m\u001b[1;33m\u001b[0m\u001b[0m\n\u001b[0m\u001b[0;32m    142\u001b[0m                 \u001b[1;32mexcept\u001b[0m \u001b[0mException\u001b[0m \u001b[1;32mas\u001b[0m \u001b[0me\u001b[0m\u001b[1;33m:\u001b[0m\u001b[1;33m\u001b[0m\u001b[1;33m\u001b[0m\u001b[0m\n\u001b[0;32m    143\u001b[0m                     \u001b[0mlogger\u001b[0m\u001b[1;33m.\u001b[0m\u001b[0minfo\u001b[0m\u001b[1;33m(\u001b[0m\u001b[1;34m'job exception: %s'\u001b[0m \u001b[1;33m%\u001b[0m \u001b[0mstr\u001b[0m\u001b[1;33m(\u001b[0m\u001b[0me\u001b[0m\u001b[1;33m)\u001b[0m\u001b[1;33m)\u001b[0m\u001b[1;33m\u001b[0m\u001b[1;33m\u001b[0m\u001b[0m\n",
      "\u001b[1;32mC:\\ProgramData\\Anaconda3\\lib\\site-packages\\hyperopt\\base.py\u001b[0m in \u001b[0;36mevaluate\u001b[1;34m(self, config, ctrl, attach_attachments)\u001b[0m\n\u001b[0;32m    854\u001b[0m                 \u001b[0mmemo\u001b[0m\u001b[1;33m=\u001b[0m\u001b[0mmemo\u001b[0m\u001b[1;33m,\u001b[0m\u001b[1;33m\u001b[0m\u001b[1;33m\u001b[0m\u001b[0m\n\u001b[0;32m    855\u001b[0m                 print_node_on_error=self.rec_eval_print_node_on_error)\n\u001b[1;32m--> 856\u001b[1;33m             \u001b[0mrval\u001b[0m \u001b[1;33m=\u001b[0m \u001b[0mself\u001b[0m\u001b[1;33m.\u001b[0m\u001b[0mfn\u001b[0m\u001b[1;33m(\u001b[0m\u001b[0mpyll_rval\u001b[0m\u001b[1;33m)\u001b[0m\u001b[1;33m\u001b[0m\u001b[1;33m\u001b[0m\u001b[0m\n\u001b[0m\u001b[0;32m    857\u001b[0m \u001b[1;33m\u001b[0m\u001b[0m\n\u001b[0;32m    858\u001b[0m         \u001b[1;32mif\u001b[0m \u001b[0misinstance\u001b[0m\u001b[1;33m(\u001b[0m\u001b[0mrval\u001b[0m\u001b[1;33m,\u001b[0m \u001b[1;33m(\u001b[0m\u001b[0mfloat\u001b[0m\u001b[1;33m,\u001b[0m \u001b[0mint\u001b[0m\u001b[1;33m,\u001b[0m \u001b[0mnp\u001b[0m\u001b[1;33m.\u001b[0m\u001b[0mnumber\u001b[0m\u001b[1;33m)\u001b[0m\u001b[1;33m)\u001b[0m\u001b[1;33m:\u001b[0m\u001b[1;33m\u001b[0m\u001b[1;33m\u001b[0m\u001b[0m\n",
      "\u001b[1;32m<ipython-input-69-f6ae8be3f8b8>\u001b[0m in \u001b[0;36mobjective\u001b[1;34m(params)\u001b[0m\n\u001b[0;32m     13\u001b[0m     \u001b[1;31m# Perform n_fold cross validation with hyperparameters\u001b[0m\u001b[1;33m\u001b[0m\u001b[1;33m\u001b[0m\u001b[1;33m\u001b[0m\u001b[0m\n\u001b[0;32m     14\u001b[0m     \u001b[1;31m# Use early stopping and evalute based on ROC AUC\u001b[0m\u001b[1;33m\u001b[0m\u001b[1;33m\u001b[0m\u001b[1;33m\u001b[0m\u001b[0m\n\u001b[1;32m---> 15\u001b[1;33m     \u001b[0mbst\u001b[0m \u001b[1;33m=\u001b[0m \u001b[0mlgb\u001b[0m\u001b[1;33m.\u001b[0m\u001b[0mtrain\u001b[0m\u001b[1;33m(\u001b[0m\u001b[0mparams\u001b[0m\u001b[1;33m,\u001b[0m \u001b[0mtrain_set\u001b[0m\u001b[1;33m,\u001b[0m \u001b[0mITER\u001b[0m\u001b[1;33m,\u001b[0m \u001b[0mvalid_sets\u001b[0m\u001b[1;33m=\u001b[0m\u001b[0mvalid_set\u001b[0m\u001b[1;33m,\u001b[0m \u001b[0mearly_stopping_rounds\u001b[0m\u001b[1;33m=\u001b[0m\u001b[0mSTOP_ROUND\u001b[0m\u001b[1;33m)\u001b[0m\u001b[1;33m\u001b[0m\u001b[1;33m\u001b[0m\u001b[0m\n\u001b[0m\u001b[0;32m     16\u001b[0m     \u001b[0mbst\u001b[0m\u001b[1;33m.\u001b[0m\u001b[0msave_model\u001b[0m\u001b[1;33m(\u001b[0m\u001b[1;34m'model.txt'\u001b[0m\u001b[1;33m,\u001b[0m \u001b[0mnum_iteration\u001b[0m\u001b[1;33m=\u001b[0m\u001b[0mbst\u001b[0m\u001b[1;33m.\u001b[0m\u001b[0mbest_iteration\u001b[0m\u001b[1;33m)\u001b[0m\u001b[1;33m\u001b[0m\u001b[1;33m\u001b[0m\u001b[0m\n\u001b[0;32m     17\u001b[0m \u001b[1;33m\u001b[0m\u001b[0m\n",
      "\u001b[1;32mC:\\ProgramData\\Anaconda3\\lib\\site-packages\\lightgbm\\engine.py\u001b[0m in \u001b[0;36mtrain\u001b[1;34m(params, train_set, num_boost_round, valid_sets, valid_names, fobj, feval, init_model, feature_name, categorical_feature, early_stopping_rounds, evals_result, verbose_eval, learning_rates, keep_training_booster, callbacks)\u001b[0m\n\u001b[0;32m    247\u001b[0m                                     evaluation_result_list=None))\n\u001b[0;32m    248\u001b[0m \u001b[1;33m\u001b[0m\u001b[0m\n\u001b[1;32m--> 249\u001b[1;33m         \u001b[0mbooster\u001b[0m\u001b[1;33m.\u001b[0m\u001b[0mupdate\u001b[0m\u001b[1;33m(\u001b[0m\u001b[0mfobj\u001b[0m\u001b[1;33m=\u001b[0m\u001b[0mfobj\u001b[0m\u001b[1;33m)\u001b[0m\u001b[1;33m\u001b[0m\u001b[1;33m\u001b[0m\u001b[0m\n\u001b[0m\u001b[0;32m    250\u001b[0m \u001b[1;33m\u001b[0m\u001b[0m\n\u001b[0;32m    251\u001b[0m         \u001b[0mevaluation_result_list\u001b[0m \u001b[1;33m=\u001b[0m \u001b[1;33m[\u001b[0m\u001b[1;33m]\u001b[0m\u001b[1;33m\u001b[0m\u001b[1;33m\u001b[0m\u001b[0m\n",
      "\u001b[1;32mC:\\ProgramData\\Anaconda3\\lib\\site-packages\\lightgbm\\basic.py\u001b[0m in \u001b[0;36mupdate\u001b[1;34m(self, train_set, fobj)\u001b[0m\n\u001b[0;32m   1924\u001b[0m             _safe_call(_LIB.LGBM_BoosterUpdateOneIter(\n\u001b[0;32m   1925\u001b[0m                 \u001b[0mself\u001b[0m\u001b[1;33m.\u001b[0m\u001b[0mhandle\u001b[0m\u001b[1;33m,\u001b[0m\u001b[1;33m\u001b[0m\u001b[1;33m\u001b[0m\u001b[0m\n\u001b[1;32m-> 1926\u001b[1;33m                 ctypes.byref(is_finished)))\n\u001b[0m\u001b[0;32m   1927\u001b[0m             \u001b[0mself\u001b[0m\u001b[1;33m.\u001b[0m\u001b[0m__is_predicted_cur_iter\u001b[0m \u001b[1;33m=\u001b[0m \u001b[1;33m[\u001b[0m\u001b[1;32mFalse\u001b[0m \u001b[1;32mfor\u001b[0m \u001b[0m_\u001b[0m \u001b[1;32min\u001b[0m \u001b[0mrange_\u001b[0m\u001b[1;33m(\u001b[0m\u001b[0mself\u001b[0m\u001b[1;33m.\u001b[0m\u001b[0m__num_dataset\u001b[0m\u001b[1;33m)\u001b[0m\u001b[1;33m]\u001b[0m\u001b[1;33m\u001b[0m\u001b[1;33m\u001b[0m\u001b[0m\n\u001b[0;32m   1928\u001b[0m             \u001b[1;32mreturn\u001b[0m \u001b[0mis_finished\u001b[0m\u001b[1;33m.\u001b[0m\u001b[0mvalue\u001b[0m \u001b[1;33m==\u001b[0m \u001b[1;36m1\u001b[0m\u001b[1;33m\u001b[0m\u001b[1;33m\u001b[0m\u001b[0m\n",
      "\u001b[1;31mKeyboardInterrupt\u001b[0m: "
     ]
    }
   ],
   "source": [
    "from hyperopt import fmin\n",
    "from hyperopt import tpe\n",
    "\n",
    "MAX_EVALS = 500\n",
    "\n",
    "# Optimize\n",
    "bestDict = fmin(fn = objective, space = space, algo = tpe.suggest, \n",
    "            max_evals = MAX_EVALS, trials = bayes_trials)\n",
    "bestDict"
   ]
  },
  {
   "cell_type": "code",
   "execution_count": null,
   "metadata": {},
   "outputs": [],
   "source": [
    "from hyperopt import space_eval\n",
    "best = space_eval(space, bestDict)\n",
    "best['num_leaves'] = int(best['num_leaves'])\n",
    "best['subsample_for_bin'] = int(best['subsample_for_bin'])\n",
    "best['min_child_samples'] = int(best['min_child_samples'])\n",
    "best['metric'] = 'auc'\n",
    "bestModel = lgb.train(best, train_set, ITER, valid_sets=valid_set, early_stopping_rounds=STOP_ROUND)"
   ]
  },
  {
   "cell_type": "code",
   "execution_count": null,
   "metadata": {},
   "outputs": [],
   "source": [
    "bestModel.save_model('model.txt', num_iteration=bestModel.best_iteration)"
   ]
  },
  {
   "cell_type": "code",
   "execution_count": null,
   "metadata": {},
   "outputs": [],
   "source": [
    "bestModel.num_trees()"
   ]
  },
  {
   "cell_type": "code",
   "execution_count": null,
   "metadata": {},
   "outputs": [],
   "source": [
    "best"
   ]
  },
  {
   "cell_type": "code",
   "execution_count": null,
   "metadata": {},
   "outputs": [],
   "source": [
    "from lightgbm import LGBMClassifier\n",
    "\n",
    "gb_clf = LGBMClassifier(boosting_type=best['boosting_type'],\n",
    "                        num_leaves=best['num_leaves'],\n",
    "                        learning_rate=best['learning_rate'],\n",
    "                        subsample_for_bin=best['subsample_for_bin'],\n",
    "                        min_child_samples=best['min_child_samples'],\n",
    "                        reg_alpha=best['reg_alpha'],\n",
    "                        reg_lambda=best['reg_lambda'],\n",
    "                        colsample_bytree=best['colsample_bytree'])\n",
    "gb_clf.fit(XTrain, y)"
   ]
  },
  {
   "cell_type": "code",
   "execution_count": null,
   "metadata": {},
   "outputs": [],
   "source": [
    "probs = gb_clf.predict_proba(XTest, num_iteration=bestModel.best_iteration)\n",
    "YTest = probs[:, 0]\n",
    "YTest"
   ]
  },
  {
   "cell_type": "code",
   "execution_count": null,
   "metadata": {},
   "outputs": [],
   "source": [
    "np.max(YTest)"
   ]
  },
  {
   "cell_type": "code",
   "execution_count": null,
   "metadata": {
    "scrolled": true
   },
   "outputs": [],
   "source": [
    "df_test['Predicted'] = YTest\n",
    "df_test"
   ]
  },
  {
   "cell_type": "code",
   "execution_count": null,
   "metadata": {},
   "outputs": [],
   "source": [
    "df_test.to_csv('test.csv', index=False)"
   ]
  },
  {
   "cell_type": "code",
   "execution_count": null,
   "metadata": {},
   "outputs": [],
   "source": []
  },
  {
   "cell_type": "code",
   "execution_count": null,
   "metadata": {},
   "outputs": [],
   "source": [
    "from lightgbm import LGBMModel\n",
    "from sklearn.model_selection import RandomizedSearchCV\n",
    "from scipy.stats import uniform as sp_randFloat\n",
    "from scipy.stats import randint as sp_randInt\n",
    "\n",
    "clf = LGBMModel()\n",
    "parameters = {'learning_rate': sp_randFloat(),\n",
    "                  'subsample'    : sp_randFloat(),\n",
    "                  'n_estimators' : sp_randInt(100, 1000),\n",
    "                  'max_depth'    : sp_randInt(4, 10) \n",
    "                 }\n",
    "\n",
    "randm = RandomizedSearchCV(estimator=gb_clf, param_distributions = parameters, \n",
    "                           cv = 5, n_iter = 10, n_jobs=-1)\n",
    "randm.fit(XTrain, y)\n",
    "\n",
    "# Results from Random Search\n",
    "print(\"\\n========================================================\")\n",
    "print(\" Results from Random Search \" )\n",
    "print(\"========================================================\")    \n",
    "\n",
    "print(\"\\n The best estimator across ALL searched params:\\n\",\n",
    "      randm.best_estimator_)\n",
    "\n",
    "print(\"\\n The best score across ALL searched params:\\n\",\n",
    "      randm.best_score_)\n",
    "\n",
    "print(\"\\n The best parameters across ALL searched params:\\n\",\n",
    "      randm.best_params_)\n",
    "\n",
    "print(\"\\n ========================================================\")\n",
    "\n",
    "gb_clf = randm.best_estimator_"
   ]
  },
  {
   "cell_type": "code",
   "execution_count": null,
   "metadata": {},
   "outputs": [],
   "source": []
  },
  {
   "cell_type": "code",
   "execution_count": null,
   "metadata": {},
   "outputs": [],
   "source": []
  }
 ],
 "metadata": {
  "kernelspec": {
   "display_name": "Python 3",
   "language": "python",
   "name": "python3"
  },
  "language_info": {
   "codemirror_mode": {
    "name": "ipython",
    "version": 3
   },
   "file_extension": ".py",
   "mimetype": "text/x-python",
   "name": "python",
   "nbconvert_exporter": "python",
   "pygments_lexer": "ipython3",
   "version": "3.6.9"
  }
 },
 "nbformat": 4,
 "nbformat_minor": 2
}
